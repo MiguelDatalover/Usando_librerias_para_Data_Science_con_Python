{
 "cells": [
  {
   "cell_type": "markdown",
   "id": "79f600b9-f339-43d2-ab2a-ff3c15a0d2a2",
   "metadata": {},
   "source": [
    "## INTRODUCCIÓN A NUMPY"
   ]
  },
  {
   "cell_type": "markdown",
   "id": "e3bc81d8-197f-468f-abbf-baee65119bec",
   "metadata": {},
   "source": [
    "Cuando un calculo debe repetirse para un conjunto de valores de entrada, es natural y ventajoso representar esos datos como arrays. Numpy es una potente libreria de python que manipula matrices , vectores y arrays. Esta libreria es ampliamente usada para el procesamiento de imagenes (PDI) , intelegencia artificial (IA) , Sistemas de Control ,etc.<br>\n",
    "Sirve como base para el desarrollo de otras librerias o framework de python como : ***scikit learn , Tensorflow , pytorch , etc***."
   ]
  },
  {
   "cell_type": "markdown",
   "id": "08fcb367-d28d-42ee-a881-f2fcf77ac5a0",
   "metadata": {},
   "source": [
    "## IMPORTACIÓN DEL MÓDULO Y VERIFICANDO LA VERSIÓN"
   ]
  },
  {
   "cell_type": "code",
   "execution_count": 1,
   "id": "229f9cda",
   "metadata": {},
   "outputs": [],
   "source": [
    "import numpy as np"
   ]
  },
  {
   "cell_type": "code",
   "execution_count": 10,
   "id": "e430cf00-54cb-4bca-ab4f-a9ea8aebda6e",
   "metadata": {},
   "outputs": [
    {
     "data": {
      "text/plain": [
       "array([[2, 3, 4],\n",
       "       [2, 3, 4],\n",
       "       [2, 3, 4]])"
      ]
     },
     "execution_count": 10,
     "metadata": {},
     "output_type": "execute_result"
    }
   ],
   "source": [
    "a=np.array([[2,3,4]])\n",
    "b=np.repeat(a,3,axis=0)\n",
    "b"
   ]
  },
  {
   "cell_type": "code",
   "execution_count": 13,
   "id": "1b2736e8-4fb0-4352-99e0-75109ebbfe6e",
   "metadata": {},
   "outputs": [
    {
     "data": {
      "text/plain": [
       "array([[1., 0., 0.],\n",
       "       [0., 1., 0.],\n",
       "       [0., 0., 1.]])"
      ]
     },
     "execution_count": 13,
     "metadata": {},
     "output_type": "execute_result"
    }
   ],
   "source": [
    "s=np.eye(3)\n",
    "s"
   ]
  },
  {
   "cell_type": "code",
   "execution_count": 24,
   "id": "754d5664-605f-4cdb-a180-e52e95d251e1",
   "metadata": {},
   "outputs": [
    {
     "data": {
      "text/plain": [
       "array([1, 1, 1])"
      ]
     },
     "execution_count": 24,
     "metadata": {},
     "output_type": "execute_result"
    }
   ],
   "source": [
    "np.sum(s,axis=0,dtype='int32')"
   ]
  },
  {
   "cell_type": "code",
   "execution_count": null,
   "id": "825d9fb2-5fd2-4579-8555-401b5da8936d",
   "metadata": {},
   "outputs": [],
   "source": []
  },
  {
   "cell_type": "code",
   "execution_count": 23,
   "id": "c7884ff8-09fd-4d1a-b08e-6261e7237e14",
   "metadata": {},
   "outputs": [
    {
     "name": "stdout",
     "output_type": "stream",
     "text": [
      "1.20.3\n"
     ]
    }
   ],
   "source": [
    "print(np.__version__)"
   ]
  },
  {
   "cell_type": "code",
   "execution_count": 156,
   "id": "2ac77601-3790-4d7d-8ba3-16cdce94d937",
   "metadata": {
    "tags": []
   },
   "outputs": [
    {
     "data": {
      "text/plain": [
       "\u001b[1;31mType:\u001b[0m        module\n",
       "\u001b[1;31mString form:\u001b[0m <module 'numpy' from 'C:\\\\Users\\\\HP\\\\anaconda3\\\\lib\\\\site-packages\\\\numpy\\\\__init__.py'>\n",
       "\u001b[1;31mFile:\u001b[0m        c:\\users\\hp\\anaconda3\\lib\\site-packages\\numpy\\__init__.py\n",
       "\u001b[1;31mDocstring:\u001b[0m  \n",
       "NumPy\n",
       "=====\n",
       "\n",
       "Provides\n",
       "  1. An array object of arbitrary homogeneous items\n",
       "  2. Fast mathematical operations over arrays\n",
       "  3. Linear Algebra, Fourier Transforms, Random Number Generation\n",
       "\n",
       "How to use the documentation\n",
       "----------------------------\n",
       "Documentation is available in two forms: docstrings provided\n",
       "with the code, and a loose standing reference guide, available from\n",
       "`the NumPy homepage <https://www.scipy.org>`_.\n",
       "\n",
       "We recommend exploring the docstrings using\n",
       "`IPython <https://ipython.org>`_, an advanced Python shell with\n",
       "TAB-completion and introspection capabilities.  See below for further\n",
       "instructions.\n",
       "\n",
       "The docstring examples assume that `numpy` has been imported as `np`::\n",
       "\n",
       "  >>> import numpy as np\n",
       "\n",
       "Code snippets are indicated by three greater-than signs::\n",
       "\n",
       "  >>> x = 42\n",
       "  >>> x = x + 1\n",
       "\n",
       "Use the built-in ``help`` function to view a function's docstring::\n",
       "\n",
       "  >>> help(np.sort)\n",
       "  ... # doctest: +SKIP\n",
       "\n",
       "For some objects, ``np.info(obj)`` may provide additional help.  This is\n",
       "particularly true if you see the line \"Help on ufunc object:\" at the top\n",
       "of the help() page.  Ufuncs are implemented in C, not Python, for speed.\n",
       "The native Python help() does not know how to view their help, but our\n",
       "np.info() function does.\n",
       "\n",
       "To search for documents containing a keyword, do::\n",
       "\n",
       "  >>> np.lookfor('keyword')\n",
       "  ... # doctest: +SKIP\n",
       "\n",
       "General-purpose documents like a glossary and help on the basic concepts\n",
       "of numpy are available under the ``doc`` sub-module::\n",
       "\n",
       "  >>> from numpy import doc\n",
       "  >>> help(doc)\n",
       "  ... # doctest: +SKIP\n",
       "\n",
       "Available subpackages\n",
       "---------------------\n",
       "doc\n",
       "    Topical documentation on broadcasting, indexing, etc.\n",
       "lib\n",
       "    Basic functions used by several sub-packages.\n",
       "random\n",
       "    Core Random Tools\n",
       "linalg\n",
       "    Core Linear Algebra Tools\n",
       "fft\n",
       "    Core FFT routines\n",
       "polynomial\n",
       "    Polynomial tools\n",
       "testing\n",
       "    NumPy testing tools\n",
       "f2py\n",
       "    Fortran to Python Interface Generator.\n",
       "distutils\n",
       "    Enhancements to distutils with support for\n",
       "    Fortran compilers support and more.\n",
       "\n",
       "Utilities\n",
       "---------\n",
       "test\n",
       "    Run numpy unittests\n",
       "show_config\n",
       "    Show numpy build configuration\n",
       "dual\n",
       "    Overwrite certain functions with high-performance SciPy tools.\n",
       "    Note: `numpy.dual` is deprecated.  Use the functions from NumPy or Scipy\n",
       "    directly instead of importing them from `numpy.dual`.\n",
       "matlib\n",
       "    Make everything matrices.\n",
       "__version__\n",
       "    NumPy version string\n",
       "\n",
       "Viewing documentation using IPython\n",
       "-----------------------------------\n",
       "Start IPython with the NumPy profile (``ipython -p numpy``), which will\n",
       "import `numpy` under the alias `np`.  Then, use the ``cpaste`` command to\n",
       "paste examples into the shell.  To see which functions are available in\n",
       "`numpy`, type ``np.<TAB>`` (where ``<TAB>`` refers to the TAB key), or use\n",
       "``np.*cos*?<ENTER>`` (where ``<ENTER>`` refers to the ENTER key) to narrow\n",
       "down the list.  To view the docstring for a function, use\n",
       "``np.cos?<ENTER>`` (to view the docstring) and ``np.cos??<ENTER>`` (to view\n",
       "the source code).\n",
       "\n",
       "Copies vs. in-place operation\n",
       "-----------------------------\n",
       "Most of the functions in `numpy` return a copy of the array argument\n",
       "(e.g., `np.sort`).  In-place versions of these functions are often\n",
       "available as array methods, i.e. ``x = np.array([1,2,3]); x.sort()``.\n",
       "Exceptions to this rule are documented.\n"
      ]
     },
     "metadata": {},
     "output_type": "display_data"
    }
   ],
   "source": [
    "# DOCUMENTACIÓN\n",
    "np?"
   ]
  },
  {
   "cell_type": "markdown",
   "id": "374f6ea8-e4be-4c38-9478-f8658dfbfe41",
   "metadata": {},
   "source": [
    "## CURIOSIDADES CON NUMPY"
   ]
  },
  {
   "cell_type": "markdown",
   "id": "35342fc0-46e3-4d14-93d5-8705605237e5",
   "metadata": {},
   "source": [
    "* ### ELEMENTO NULO"
   ]
  },
  {
   "cell_type": "code",
   "execution_count": 4,
   "id": "355bdedf-5e4c-4aa5-af3c-52a6eba24328",
   "metadata": {},
   "outputs": [
    {
     "name": "stdout",
     "output_type": "stream",
     "text": [
      "True\n",
      "False\n"
     ]
    }
   ],
   "source": [
    "# EL ARREGLO TIENE POR LO MENOS UN ELEMENTO NULO? -> True or False\n",
    "a=np.array([1,3,5,7])\n",
    "c=np.all(a)\n",
    "print(c) # Nos da verdad porque ninguno de los elementos son cero\n",
    "a[-1]=0\n",
    "print(np.all(a)) # esto indica que el arreglo tiene por lo menos un cero"
   ]
  },
  {
   "cell_type": "markdown",
   "id": "689389ca-5f3a-4bbc-a79a-818357f3b110",
   "metadata": {},
   "source": [
    "* ### ELEMENTO DISTINTO DE CERO"
   ]
  },
  {
   "cell_type": "code",
   "execution_count": 161,
   "id": "8b364cba-bcb5-48e1-8f66-2f4e42737cd9",
   "metadata": {},
   "outputs": [
    {
     "name": "stdout",
     "output_type": "stream",
     "text": [
      "False\n",
      "True\n"
     ]
    }
   ],
   "source": [
    "# HAY ALGÚN ELEMENTO DISTINTO DE CERO? -> True or False\n",
    "a1=[0,0,0,0]\n",
    "a2=np.array([0,0,1,0])\n",
    "print(np.any(a1))\n",
    "print(np.any(a2))"
   ]
  },
  {
   "cell_type": "markdown",
   "id": "d0b37018-0568-40cd-85df-baf2f39149d7",
   "metadata": {},
   "source": [
    "* ### VERIFICACIÓN SI LOS ELEMENTOS SON FINITOS, INFINITOS O NULOS "
   ]
  },
  {
   "cell_type": "code",
   "execution_count": 7,
   "id": "260f83c9-4f87-4126-8036-395f9532f85a",
   "metadata": {},
   "outputs": [
    {
     "name": "stdout",
     "output_type": "stream",
     "text": [
      "[ True  True  True False False False]  ->  <class 'numpy.ndarray'>\n",
      "[False False False False  True  True]  ->  <class 'numpy.ndarray'>\n",
      "[False False False  True False False]  ->  <class 'numpy.ndarray'>\n"
     ]
    }
   ],
   "source": [
    "# VERIFICACIÓN DE ELEMENTOS SI SON FINITOS O INFINITOS\n",
    "a=np.array([0,1,2,np.nan,np.inf,-np.inf])\n",
    "m1=np.isfinite(a) \n",
    "print(m1,' -> ',type(m1))\n",
    "\n",
    "m2=np.isinf(a)\n",
    "print(m2,' -> ',type(m2))\n",
    "\n",
    "m3=np.isnan(a)\n",
    "print(m3,' -> ',type(m3))"
   ]
  },
  {
   "cell_type": "markdown",
   "id": "edf913dd-a6ae-4109-8e9f-0c16e2ed8077",
   "metadata": {},
   "source": [
    "* ### VERIFICAR SI CADA ELEMENTO ES UN REAL, ESCALAR O COMPLEJO"
   ]
  },
  {
   "cell_type": "code",
   "execution_count": 11,
   "id": "31795bef-1ac3-4aba-81ac-31dd2ef7d822",
   "metadata": {},
   "outputs": [
    {
     "name": "stdout",
     "output_type": "stream",
     "text": [
      "[False False  True False  True]\n",
      "[ True  True False  True False]\n",
      "True\n",
      "False\n"
     ]
    }
   ],
   "source": [
    "a=np.array([1,2,-1+2j,3,2j])\n",
    "print(np.iscomplex(a))\n",
    "print(np.isreal(a))\n",
    "b=5.5\n",
    "print(np.isscalar(b))\n",
    "print(np.isscalar(a))"
   ]
  },
  {
   "cell_type": "markdown",
   "id": "38ea9de3-0d2e-483b-bd84-a90b85e5274e",
   "metadata": {},
   "source": [
    "* ### GRADO DE IGUALDAD CON TOLERANCIA"
   ]
  },
  {
   "cell_type": "code",
   "execution_count": 13,
   "id": "99944e76-2759-4a40-affe-a6489d9c8740",
   "metadata": {},
   "outputs": [
    {
     "name": "stdout",
     "output_type": "stream",
     "text": [
      "True\n",
      "False\n"
     ]
    }
   ],
   "source": [
    "print(np.allclose([2,3],[2.0000001,3.0]))\n",
    "print(np.allclose([1e10,1e-7],[1.00001e10,1e-8]))"
   ]
  },
  {
   "cell_type": "markdown",
   "id": "6b627fc3-0005-45c6-a76f-8ece4d70a507",
   "metadata": {},
   "source": [
    "* ### OPERADORES RELACIONALES EN UN ' ndarray '"
   ]
  },
  {
   "cell_type": "code",
   "execution_count": 74,
   "id": "770795d3-35f8-425a-9071-ba1a709d9761",
   "metadata": {},
   "outputs": [
    {
     "name": "stdout",
     "output_type": "stream",
     "text": [
      "se interpreta como: todos los elementos de [5 7 0] son menores que [-2 10  0]  ->  [False  True False]\n",
      "\n",
      "se interpreta como: todos los elementos de [5 7 0] son menores o igual que [-2 10  0]  ->  [False  True  True]\n",
      "\n",
      "se interpreta como: todos los elementos de [5 7 0] son mayores que [-2 10  0]  ->  [ True False False]\n",
      "\n",
      "se interpreta como: todos los elementos de [5 7 0] son mayores o igual que [-2 10  0]  ->  [ True False  True]\n"
     ]
    }
   ],
   "source": [
    "a=np.array([5,7,0])\n",
    "b=np.array([-2,10,0])\n",
    "# el orden imponrta -> (a,b) != (b,a)\n",
    "print('se interpreta como: todos los elementos de',a,'son menores que',b,' -> ',np.less(a,b)) \n",
    "print('\\nse interpreta como: todos los elementos de',a,\n",
    "      'son menores o igual que',b,' -> ',np.less_equal(a,b))\n",
    "print('\\nse interpreta como: todos los elementos de',a,\n",
    "      'son mayores que',b,' -> ',np.greater(a,b))\n",
    "print('\\nse interpreta como: todos los elementos de',a,\n",
    "      'son mayores o igual que',b,' -> ',np.greater_equal(a,b))"
   ]
  },
  {
   "cell_type": "markdown",
   "id": "60c5e0d4-b58c-463f-a57e-22ddef6f6b07",
   "metadata": {},
   "source": [
    "* ### GRADO DE COMPARACIÓN"
   ]
  },
  {
   "cell_type": "code",
   "execution_count": 90,
   "id": "063c1d64-aad7-4537-8679-8a48bf2dc2cf",
   "metadata": {},
   "outputs": [
    {
     "name": "stdout",
     "output_type": "stream",
     "text": [
      "[ True  True  True  True]\n",
      "[ True  True  True False]\n"
     ]
    }
   ],
   "source": [
    "a=np.array([1,2,3,3])\n",
    "b=np.array([1,2,3,3.0000001])\n",
    "print(np.isclose(a,b)) # nos soporta una tolerancia de 1e-8\n",
    "\n",
    "# cambiando la tolerancia\n",
    "print(np.isclose(a,b,rtol=1e-9))"
   ]
  },
  {
   "cell_type": "markdown",
   "id": "b7daca0c-b80d-452b-98d8-e8a6b742dd7e",
   "metadata": {},
   "source": [
    "## COMPARANDO LISTAS Y ' ndarrays ' DE NUMPY :"
   ]
  },
  {
   "cell_type": "code",
   "execution_count": 1,
   "id": "1e199a67",
   "metadata": {},
   "outputs": [
    {
     "name": "stdout",
     "output_type": "stream",
     "text": [
      "[1, 2, 3, 4, 5, 10, 11, 12, 13, 14]\n"
     ]
    }
   ],
   "source": [
    "# Las listas no realizan operaciones de elemento a elemento.\n",
    "# El signo '+' para las listas sirven para concatenar.\n",
    "a=[1,2,3,4,5]\n",
    "b=[10,11,12,13,14]\n",
    "print(a+b)"
   ]
  },
  {
   "cell_type": "code",
   "execution_count": 2,
   "id": "2397aa69",
   "metadata": {},
   "outputs": [
    {
     "name": "stdout",
     "output_type": "stream",
     "text": [
      "[11, 13, 15, 17, 19]\n"
     ]
    }
   ],
   "source": [
    "# Si quisiera hacer alguna operación elemento a elemento tengo que recorrerlos.\n",
    "# PRIMER MÉTODO\n",
    "r=[]\n",
    "for i in range(len(a)):\n",
    "    f=a[i]+b[i]\n",
    "    r.append(f)\n",
    "print(r) "
   ]
  },
  {
   "cell_type": "code",
   "execution_count": 2,
   "id": "bf28d015",
   "metadata": {},
   "outputs": [
    {
     "name": "stdout",
     "output_type": "stream",
     "text": [
      "[11, 13, 15, 17, 19]\n"
     ]
    }
   ],
   "source": [
    "# SEGUNDO MÉTODO\n",
    "w=[]\n",
    "for x,y in zip(a,b):\n",
    "    w.append(x+y)\n",
    "print(w) "
   ]
  },
  {
   "cell_type": "code",
   "execution_count": 6,
   "id": "cf92f056",
   "metadata": {},
   "outputs": [
    {
     "name": "stdout",
     "output_type": "stream",
     "text": [
      "[11 13 15 17 19]\n"
     ]
    }
   ],
   "source": [
    "# los ndarray si realizan operaciones elemento a elemnto sin recorrerlas.\n",
    "# OPERACIONES VECTORIZADAS\n",
    "a=np.array([1,2,3,4,5])\n",
    "b=np.array([10,11,12,13,14])\n",
    "print(a+b)"
   ]
  },
  {
   "cell_type": "markdown",
   "id": "da20ea6c-c48c-407a-920a-dbe1159012ca",
   "metadata": {},
   "source": [
    "## CREANDO VARIOS ' ndarrays '"
   ]
  },
  {
   "cell_type": "code",
   "execution_count": 4,
   "id": "5c5d1c4e",
   "metadata": {},
   "outputs": [
    {
     "name": "stdout",
     "output_type": "stream",
     "text": [
      "<class 'numpy.ndarray'>\n",
      "<class 'numpy.int32'>\n",
      "[2 3 4]\n",
      "int32\n",
      "4\n"
     ]
    }
   ],
   "source": [
    "a=np.array([1,2,3,4])\n",
    "print(type(a))\n",
    "print(type(a[0]))\n",
    "print(a[-3:])\n",
    "print(a.dtype) # Me perimite ver el tamaño de cualquiera de los items del ndarray\n",
    "print(a.itemsize)"
   ]
  },
  {
   "cell_type": "code",
   "execution_count": 10,
   "id": "14a36d5f",
   "metadata": {},
   "outputs": [
    {
     "name": "stdout",
     "output_type": "stream",
     "text": [
      "[1. 5. 3. 4.]\n",
      "<class 'numpy.ndarray'>\n",
      "float64\n"
     ]
    }
   ],
   "source": [
    "c=np.array([1,5,3.0,4])\n",
    "print(c)\n",
    "print(type(c))\n",
    "print(c.dtype)"
   ]
  },
  {
   "cell_type": "code",
   "execution_count": 93,
   "id": "e805b8e5-2a5c-4ae1-8c23-fbef321747c7",
   "metadata": {},
   "outputs": [
    {
     "name": "stdout",
     "output_type": "stream",
     "text": [
      "Arreglo con 10 ceros: [0. 0. 0. 0. 0. 0. 0. 0. 0. 0.]\n",
      "Arreglo con 10 unos: [1. 1. 1. 1. 1. 1. 1. 1. 1. 1.]\n",
      "Arreglo con 10 sietes: [7. 7. 7. 7. 7. 7. 7. 7. 7. 7.]\n"
     ]
    }
   ],
   "source": [
    "# CREACIÓN DE ARREGLOS\n",
    "a=np.zeros(10)\n",
    "print('Arreglo con 10 ceros:',a)\n",
    "b=np.ones(10)\n",
    "print('Arreglo con 10 unos:',b)\n",
    "c=np.ones(10)*7\n",
    "print('Arreglo con 10 sietes:',c)"
   ]
  },
  {
   "cell_type": "code",
   "execution_count": 98,
   "id": "17001cd7-9e9f-4d64-adf9-f3a4bec911ec",
   "metadata": {},
   "outputs": [
    {
     "name": "stdout",
     "output_type": "stream",
     "text": [
      "Números entre 20 y 50: [20 21 22 23 24 25 26 27 28 29 30 31 32 33 34 35 36 37 38 39 40 41 42 43\n",
      " 44 45 46 47 48 49 50]\n",
      "\n",
      "Números pares entre 20 y 50: [20 22 24 26 28 30 32 34 36 38 40 42 44 46 48 50]\n"
     ]
    }
   ],
   "source": [
    "a=np.arange(20,51)\n",
    "print('Números entre 20 y 50:',a)\n",
    "b=np.arange(20,51,2)\n",
    "print('\\nNúmeros pares entre 20 y 50:',b)"
   ]
  },
  {
   "cell_type": "code",
   "execution_count": 5,
   "id": "dfbd7abd-e8c7-4205-bc40-5e3cca2d1343",
   "metadata": {},
   "outputs": [
    {
     "name": "stdout",
     "output_type": "stream",
     "text": [
      "la matriz identidad tiene como diagonal principal solo unos.\n",
      "[[1. 0. 0.]\n",
      " [0. 1. 0.]\n",
      " [0. 0. 1.]]\n",
      "\n",
      "Un número aleatorio entre 0 y 1(excepto este) 0.177\n",
      "<class 'float'>\n",
      "\n",
      "Tenemos 10 números aleatorios que siguen una distribución normal estandar: [-1.07239954  0.23836099 -1.03971041  0.0861474  -1.25046403 -1.08899405\n",
      "  0.90621952 -1.86127671 -0.38060369  1.18876728]\n"
     ]
    }
   ],
   "source": [
    "# MATRIZ IDENTIDAD\n",
    "matrix=np.identity(3)\n",
    "matrix=np.eye(3)\n",
    "print('la matriz identidad tiene como diagonal principal solo unos.')\n",
    "print(matrix)\n",
    "\n",
    "# NÚMEROS ALEATORIOS ENTRE 0 Y 1(excluido el 1)\n",
    "aleatorio=np.random.random()\n",
    "print('\\nUn número aleatorio entre 0 y 1(excepto este)=',round(aleatorio,3))\n",
    "print(type(aleatorio))\n",
    "\n",
    "# \n",
    "estandar=np.random.normal(0,1,10)\n",
    "print('\\nTenemos 10 números aleatorios que siguen una distribución normal estandar:',estandar)"
   ]
  },
  {
   "cell_type": "code",
   "execution_count": 119,
   "id": "bd3cd362-f4ea-4720-85dd-fbb3f584ce75",
   "metadata": {},
   "outputs": [
    {
     "name": "stdout",
     "output_type": "stream",
     "text": [
      "vector entre 15 y 55, excepto estos límites: [16 17 18 19 20 21 22 23 24 25 26 27 28 29 30 31 32 33 34 35 36 37 38 39\n",
      " 40 41 42 43 44 45 46 47 48 49 50 51 52 53 54]\n"
     ]
    }
   ],
   "source": [
    "s=np.arange(16,55)\n",
    "print('vector entre 15 y 55, excepto estos límites:',s)"
   ]
  },
  {
   "cell_type": "code",
   "execution_count": 7,
   "id": "34bbf007",
   "metadata": {},
   "outputs": [
    {
     "name": "stdout",
     "output_type": "stream",
     "text": [
      "[6 4 5 6 3 5 7 4 5]\n"
     ]
    }
   ],
   "source": [
    "# Me permite crear valores aleatorios enteros\n",
    "w=np.random.randint(3,8,9)\n",
    "print(w)"
   ]
  },
  {
   "cell_type": "code",
   "execution_count": 68,
   "id": "7c3a9d54",
   "metadata": {},
   "outputs": [
    {
     "name": "stdout",
     "output_type": "stream",
     "text": [
      "[44 69 44 66  7 71 21 98 79 84 27 43]\n"
     ]
    }
   ],
   "source": [
    "n1=np.random.randint(1,100,12)\n",
    "print(n1)"
   ]
  },
  {
   "cell_type": "code",
   "execution_count": 60,
   "id": "c8e23f8d-0db1-40d4-80cf-9c13b584cb10",
   "metadata": {},
   "outputs": [
    {
     "name": "stdout",
     "output_type": "stream",
     "text": [
      "\n",
      "----------- LA MATRIZ ORIGINAL -------------\n",
      "\n",
      "[[0.37445142 0.24943026 0.85135975 0.47871933 0.72484195]\n",
      " [0.60203577 0.76198459 0.99767622 0.41810983 0.68314412]\n",
      " [0.17222197 0.08289198 0.53099134 0.77256063 0.90522771]]  ->  2\n",
      "\n",
      " [0.37445142 0.24943026 0.85135975 0.47871933 0.72484195 0.60203577\n",
      " 0.76198459 0.99767622 0.41810983 0.68314412 0.17222197 0.08289198\n",
      " 0.53099134 0.77256063 0.90522771]  ->  1\n",
      "\n",
      " [0.37445142 0.24943026 0.85135975 0.47871933 0.72484195 0.60203577\n",
      " 0.76198459 0.99767622 0.41810983 0.68314412 0.17222197 0.08289198\n",
      " 0.53099134 0.77256063 0.90522771]  ->  1\n",
      "\n",
      " [0.37445142 0.60203577 0.17222197 0.24943026 0.76198459 0.08289198\n",
      " 0.85135975 0.99767622 0.53099134 0.47871933 0.41810983 0.77256063\n",
      " 0.72484195 0.68314412 0.90522771]  ->  1\n",
      "\n",
      "----------- TRANSPUESTA DE LA MATRIZ ORIGINAL -------------\n",
      "\n",
      "[[0.37445142 0.60203577 0.17222197]\n",
      " [0.24943026 0.76198459 0.08289198]\n",
      " [0.85135975 0.99767622 0.53099134]\n",
      " [0.47871933 0.41810983 0.77256063]\n",
      " [0.72484195 0.68314412 0.90522771]]\n",
      "\n",
      " [[0.37445142 0.60203577 0.17222197]\n",
      " [0.24943026 0.76198459 0.08289198]\n",
      " [0.85135975 0.99767622 0.53099134]\n",
      " [0.47871933 0.41810983 0.77256063]\n",
      " [0.72484195 0.68314412 0.90522771]]\n"
     ]
    }
   ],
   "source": [
    "print('\\n----------- LA MATRIZ ORIGINAL -------------\\n')\n",
    "s=np.random.random((3,5))\n",
    "print(s,' -> ',s.ndim)\n",
    "z=s.flatten()\n",
    "print('\\n',z,' -> ',z.ndim)\n",
    "z=s.ravel()\n",
    "print('\\n',z,' -> ',z.ndim)\n",
    "z=s.flatten(order='F')\n",
    "print('\\n',z,' -> ',z.ndim)\n",
    "print('\\n----------- TRANSPUESTA DE LA MATRIZ ORIGINAL -------------\\n')\n",
    "print(np.transpose(s))\n",
    "print('\\n',s.swapaxes(0,1))"
   ]
  },
  {
   "cell_type": "markdown",
   "id": "0e2f38c5-644e-430d-bea7-b06da401b437",
   "metadata": {},
   "source": [
    "## RECORRIENDO UNA MATRIZ BIDIMENSIONAL"
   ]
  },
  {
   "cell_type": "code",
   "execution_count": 9,
   "id": "e32e0d3a-e590-407b-936e-102024521f44",
   "metadata": {},
   "outputs": [
    {
     "name": "stdout",
     "output_type": "stream",
     "text": [
      "MATRI DE 4 X 3\n",
      "[[ 1  2  3]\n",
      " [ 4  5  6]\n",
      " [ 7  8  9]\n",
      " [10 11 12]] \n",
      "\n",
      "1 2 3 4 5 6 7 8 9 10 11 12 \n",
      "\n",
      "1 2 3 4 5 6 7 8 9 10 11 12 \n",
      "\n",
      "1 4 7 10 2 5 8 11 3 6 9 12 \n",
      "\n",
      "1 2 3 4 5 6 7 8 9 10 11 12 "
     ]
    }
   ],
   "source": [
    "d=np.arange(1,13).reshape(4,3);print('MATRI DE 4 X 3')\n",
    "print(d,'\\n')\n",
    "for i in np.nditer(d):\n",
    "    print(i,end=' ')\n",
    "print('\\n')      \n",
    "for i in np.nditer(d,order='C'):\n",
    "    print(i,end=' ')\n",
    "print('\\n')    \n",
    "for i in np.nditer(d,order='F'):\n",
    "    print(i,end=' ')\n",
    "print('\\n')    \n",
    "for i in np.nditer(d,order='K'):\n",
    "    print(i,end=' ')    "
   ]
  },
  {
   "cell_type": "markdown",
   "id": "fee518f6-679c-4296-99b8-8ffdb6f9d3ba",
   "metadata": {},
   "source": [
    "## SUMANDO LOS ELEMENTOS DE UNA MATRIZ BIDIMENSIONAL"
   ]
  },
  {
   "cell_type": "code",
   "execution_count": 64,
   "id": "889042be-d5dc-4726-a359-702f2d7e5266",
   "metadata": {},
   "outputs": [
    {
     "name": "stdout",
     "output_type": "stream",
     "text": [
      "MATRI DE 4 X 3\n",
      "[[ 1  2  3]\n",
      " [ 4  5  6]\n",
      " [ 7  8  9]\n",
      " [10 11 12]]\n",
      "\n",
      "La suma de los elementos de la matriz es: 78\n",
      "La suma es: 78\n",
      "La suma por columnas de la matriz: [22 26 30]\n",
      "La suma por filas de la matriz: [ 6 15 24 33]\n"
     ]
    }
   ],
   "source": [
    "d=np.arange(1,13).reshape(4,3);print('MATRI DE 4 X 3')\n",
    "print(d)\n",
    "suma=0\n",
    "for i in np.nditer(d):\n",
    "    suma=suma+i\n",
    "print('\\nLa suma de los elementos de la matriz es:',suma) \n",
    "print('La suma es:',(np.sum(d)))\n",
    "print('La suma por columnas de la matriz:',np.sum(d,axis=0))\n",
    "print('La suma por filas de la matriz:',np.sum(d,axis=1))"
   ]
  },
  {
   "cell_type": "markdown",
   "id": "7c544fbb",
   "metadata": {},
   "source": [
    "## ATRIBUTOS QUE TIENE UN ' ndarray ' DE NUMPY:"
   ]
  },
  {
   "cell_type": "code",
   "execution_count": 10,
   "id": "569ebfee",
   "metadata": {},
   "outputs": [
    {
     "name": "stdout",
     "output_type": "stream",
     "text": [
      "[0 1 2 3 4 5 6 7 8]\n",
      "1686632551216\n"
     ]
    }
   ],
   "source": [
    "# Importamos numpy con un alias\n",
    "# Tenemos un vector o una matriz de una sola dimensión o eje\n",
    "r=np.arange(9)\n",
    "print(r)\n",
    "print(id(r))"
   ]
  },
  {
   "cell_type": "code",
   "execution_count": 14,
   "id": "11d447f7",
   "metadata": {},
   "outputs": [
    {
     "name": "stdout",
     "output_type": "stream",
     "text": [
      "[[9.  9.1 4. ]\n",
      " [3.  5.  1. ]]\n"
     ]
    }
   ],
   "source": [
    "# 6. -> representa un numero flotante (6.0)\n",
    "# Tenemos un matriz de 2 x 3 o de 2 dimensiones\n",
    "b=np.array([[9.0,9.1,4.0],\n",
    "            [3.0,5.0,1.0]])\n",
    "print(b)"
   ]
  },
  {
   "cell_type": "code",
   "execution_count": 91,
   "id": "e790649d",
   "metadata": {},
   "outputs": [
    {
     "name": "stdout",
     "output_type": "stream",
     "text": [
      "(4,)\n",
      "int32\n",
      "4\n",
      "1\n",
      "16\n",
      "4\n"
     ]
    }
   ],
   "source": [
    "e=np.array([3,5,8,8])\n",
    "#atributos para la matriz unidimensional\n",
    "print(e.shape) # para una sola fila indica el numero de elementos\n",
    "print(e.dtype) # tipo de datos de cada elemento de la fila en bits(todos pesan lo mismo)\n",
    "print(e.size) # numero de elementos\n",
    "print(e.ndim) # indica la dimensión del vector\n",
    "print(e.nbytes) # indica el # de bytes de todo el vector\n",
    "print(e.itemsize) # indica el número de bits de cada elemento"
   ]
  },
  {
   "cell_type": "code",
   "execution_count": 17,
   "id": "b39197ed",
   "metadata": {},
   "outputs": [
    {
     "name": "stdout",
     "output_type": "stream",
     "text": [
      "(2, 4)\n",
      "int32\n",
      "8\n",
      "2\n",
      "32\n"
     ]
    }
   ],
   "source": [
    "# Matriz bidimensional\n",
    "e=np.array([[3,5,8,8],\n",
    "            [3,5,9,2]])\n",
    "\n",
    "#atributos para la matriz bidimensional\n",
    "print(e.shape) # para matrices multidimencionales\n",
    "# shape siempre devuelve una tupla -> (# de filas,# de columnas)\n",
    "print(e.dtype)\n",
    "print(e.size)\n",
    "print(e.ndim)\n",
    "print(e.nbytes) # el numero de bytes de toda la matriz"
   ]
  },
  {
   "cell_type": "markdown",
   "id": "5520cd3e",
   "metadata": {},
   "source": [
    "## CAMBIANDO LOS TIPOS DE DATOS DENTRO DE UN ' ndarray '"
   ]
  },
  {
   "cell_type": "code",
   "execution_count": 55,
   "id": "0e5478e6",
   "metadata": {},
   "outputs": [],
   "source": [
    "# int->entero 4 bytes para windows\n",
    "# float -> flotante 8 bytes para windows\n",
    "# Para ajustar el tamaño o la longitud de los datos definir los tipos con los siguientes tipos Numpy:\n",
    "# np.int8: (1 byte) - Para enteros entre -128 y 127.->(0,256)\n",
    "# np.int16: (2 bytes) - Para enteros entre -32768 y 32767.\n",
    "# np.int32: (4 bytes) - Para enteros entre -2147483648 y 2147483647.\n",
    "# np.int64: (8 bytes) - Para números enteros entre -9223372036854775808 y 9223372036854775807"
   ]
  },
  {
   "cell_type": "code",
   "execution_count": 21,
   "id": "af770e6e",
   "metadata": {},
   "outputs": [
    {
     "name": "stdout",
     "output_type": "stream",
     "text": [
      "[4.1 5. ]\n",
      "float64\n",
      "[4.1+0.j 5. +0.j]\n"
     ]
    }
   ],
   "source": [
    "# MATRIZ UNIDIMENSIONAL \n",
    "v=np.array([4.1,5])\n",
    "print(v)\n",
    "print(v.dtype)\n",
    "v=np.array([4.1,5], dtype='complex')\n",
    "print(v)"
   ]
  },
  {
   "cell_type": "code",
   "execution_count": 26,
   "id": "e486efcf",
   "metadata": {},
   "outputs": [
    {
     "name": "stdout",
     "output_type": "stream",
     "text": [
      "[[33  6  8]\n",
      " [ 3  6  9]] \n",
      "\n",
      "int32 \n",
      "\n",
      "[[33  6  8]\n",
      " [ 3  6  9]] \n",
      "\n",
      "int16\n"
     ]
    }
   ],
   "source": [
    "# MATRIZ BIDIMENSIONAL O MULTIDIMENSIONAL\n",
    "d=np.array([[33,6,8],\n",
    "            [3,6,9]])\n",
    "print(d,'\\n')\n",
    "print(d.dtype,'\\n')\n",
    "d=np.array([[33,6,8],[3,6,9]],dtype=np.int16)\n",
    "print(d,'\\n')\n",
    "print(d.dtype)"
   ]
  },
  {
   "cell_type": "code",
   "execution_count": 173,
   "id": "8409f4af",
   "metadata": {},
   "outputs": [
    {
     "name": "stdout",
     "output_type": "stream",
     "text": [
      "[[ 1  9  5]\n",
      " [ 7  0  2]\n",
      " [-4  8  3]] \n",
      "\n",
      "int16 \n",
      "\n",
      "[[1. 9. 5.]\n",
      " [7. 0. 2.]\n",
      " [4. 8. 3.]] \n",
      "\n",
      "float64 \n",
      "\n",
      "[[1.+0.j 9.+0.j 5.+0.j]\n",
      " [7.+0.j 0.+0.j 2.+0.j]\n",
      " [4.+0.j 8.+0.j 3.+0.j]] \n",
      "\n",
      "complex128 \n",
      "\n"
     ]
    }
   ],
   "source": [
    "# MATRIZ BIDIMENSIONAL O MULTIDIMENSIONAL\n",
    "m=np.array([[1,9,5],[7,0,2],[-4,8,3]],'int16')\n",
    "print(m,'\\n')\n",
    "print(m.dtype,'\\n')\n",
    "#n=np.array([[1,9,5],[7,0,2],[4,8,3]],dtype='float')\n",
    "n=np.array([[1,9,5],[7,0,2],[4,8,3]],dtype='float')\n",
    "print(n,'\\n')\n",
    "print(n.dtype,'\\n')\n",
    "n=np.array([[1,9,5],[7,0,2],[4,8,3]],'complex')\n",
    "print(n,'\\n')\n",
    "print(n.dtype,'\\n')"
   ]
  },
  {
   "cell_type": "markdown",
   "id": "93a8f42f",
   "metadata": {},
   "source": [
    "## OBTENER Y COLOCAR LOS ELEMENTOS"
   ]
  },
  {
   "cell_type": "markdown",
   "id": "742ee9a9",
   "metadata": {},
   "source": [
    "vamos a trabajar con 1D y 2D, pero pero siempre obtendremos solo un valor o en su defecto una fila o columna"
   ]
  },
  {
   "cell_type": "markdown",
   "id": "323c7d6c",
   "metadata": {},
   "source": [
    "## INDEX Y SLICING"
   ]
  },
  {
   "cell_type": "code",
   "execution_count": 174,
   "id": "01b174f3",
   "metadata": {},
   "outputs": [
    {
     "name": "stdout",
     "output_type": "stream",
     "text": [
      "[ 4  6  9  3  1  2 10] \n",
      "\n",
      "OBTENEMOS UN SOLO VALOR O ELEMENTO DE LA MATRIZ FILA O VECTOR \n",
      "\n",
      "4\n",
      "1\n",
      "10\n",
      "9\n",
      "------------------------------------------------------------------------\n",
      "\n",
      " AHORA OBTENDREMOS REBANADAS O CORTES DEL VECTOR \n",
      "\n",
      "[4 6 9 3 1]\n",
      "[9 3]\n",
      "[9 3 1]\n",
      "[1 2]\n",
      "2332933241520\n"
     ]
    }
   ],
   "source": [
    "# MATRIZ UNIDIMENSIONAL O VECTOR\n",
    "s=np.array([4,6,9,3,1,2,10])\n",
    "print(s,'\\n')\n",
    "print('OBTENEMOS UN SOLO VALOR O ELEMENTO DE LA MATRIZ FILA O VECTOR','\\n')\n",
    "# este proceso tambien se llama indexacion\n",
    "print(s[0])\n",
    "print(s[4])\n",
    "print(s[-1])\n",
    "print(s[-5])\n",
    "print('------------------------------------------------------------------------')\n",
    "print('\\n','AHORA OBTENDREMOS REBANADAS O CORTES DEL VECTOR','\\n')\n",
    "print(s[0:5])\n",
    "print(s[2:4])\n",
    "print(s[2:-2])\n",
    "print(s[-3:-1])\n",
    "print(id(s))"
   ]
  },
  {
   "cell_type": "code",
   "execution_count": 175,
   "id": "6dcc18da",
   "metadata": {},
   "outputs": [
    {
     "name": "stdout",
     "output_type": "stream",
     "text": [
      "2332954825136\n",
      "[ 5  6  9  3  1  2 10]\n",
      "2332954825136\n",
      "<class 'numpy.ndarray'>\n",
      "\n",
      " Podemos insertar tambien en una rebanada \n",
      "\n",
      "[ 5 25 25  3  1  2 10]\n",
      "2332954825136\n"
     ]
    }
   ],
   "source": [
    "# Pero tambien podemos insertar elementos\n",
    "s=np.array([4,6,9,3,1,2,10])\n",
    "print(id(s))\n",
    "s[0]=5\n",
    "print(s)\n",
    "print(id(s))\n",
    "print(type(s))\n",
    "print('\\n','Podemos insertar tambien en una rebanada','\\n')\n",
    "s[1:3]=25\n",
    "print(s)\n",
    "print(id(s))"
   ]
  },
  {
   "cell_type": "code",
   "execution_count": 31,
   "id": "ff5ab257",
   "metadata": {},
   "outputs": [
    {
     "name": "stdout",
     "output_type": "stream",
     "text": [
      "[[ 4  6  9  3]\n",
      " [ 5  1  2 10]\n",
      " [ 3  5  7 12]] \n",
      "\n",
      "1851484500304 \n",
      "\n",
      "[[ 4  5  3]\n",
      " [ 6  1  5]\n",
      " [ 9  2  7]\n",
      " [ 3 10 12]] \n",
      "\n",
      "1851484500592 \n",
      "\n",
      "[4 6 9 3] \n",
      "\n",
      "[ 3  5  7 12] \n",
      "\n",
      "[4 5 3] \n",
      "\n",
      "[9 2 7] \n",
      "\n",
      "4 \n",
      "\n",
      "5 \n",
      "\n",
      "12\n"
     ]
    }
   ],
   "source": [
    "# PARA UNA MATRIZ BIDIMENSIONAL O MULTIDIMENCIONAL\n",
    "z=np.array([[4,6,9,3],\n",
    "            [5,1,2,10],\n",
    "            [3,5,7,12]])\n",
    "print(z,'\\n')\n",
    "print(id(z),'\\n')\n",
    "# Obtenemos la transpuesta\n",
    "y=z.T\n",
    "print(y,'\\n')\n",
    "print(id(y),'\\n')\n",
    "# Obtenemos las filas\n",
    "print(z[0],'\\n')\n",
    "print(z[2],'\\n')\n",
    "# Obtenemos las columnas\n",
    "print(y[0],'\\n')\n",
    "print(y[2],'\\n')\n",
    "# Si desemos obtener los elementos\n",
    "print(z[0][0],'\\n') # z[0,0]\n",
    "print(z[2][1],'\\n') # z[2,1]\n",
    "print(z[2,3])"
   ]
  },
  {
   "cell_type": "code",
   "execution_count": 32,
   "id": "25f5e009",
   "metadata": {},
   "outputs": [
    {
     "name": "stdout",
     "output_type": "stream",
     "text": [
      "[[19393     6     9     3]\n",
      " [    5     1     2    10]\n",
      " [    3     5     7    12]]\n"
     ]
    }
   ],
   "source": [
    "z[0][0]=19393\n",
    "print(z)"
   ]
  },
  {
   "cell_type": "markdown",
   "id": "4d8a8548",
   "metadata": {},
   "source": [
    "ahora rebanaremos o cortaremos matrices de 2D"
   ]
  },
  {
   "cell_type": "markdown",
   "id": "c871a0c3",
   "metadata": {},
   "source": [
    "## SLICING e INDEX"
   ]
  },
  {
   "cell_type": "code",
   "execution_count": null,
   "id": "96f1387a",
   "metadata": {},
   "outputs": [],
   "source": [
    "# Tambien utilizamos corchetes e involucramos almenos dos puntos"
   ]
  },
  {
   "cell_type": "code",
   "execution_count": 33,
   "id": "5b9115ca",
   "metadata": {},
   "outputs": [
    {
     "name": "stdout",
     "output_type": "stream",
     "text": [
      "(6, 6) \n",
      "\n",
      "[[ 0  1  2  3  4  5]\n",
      " [10 11 12 13 14 15]\n",
      " [20 21 22 23 24 25]\n",
      " [30 31 32 33 34 35]\n",
      " [40 41 42 43 44 45]\n",
      " [50 51 52 53 54 55]] \n",
      "\n",
      "[[3 4]] \n",
      "\n",
      "[[44 45]\n",
      " [54 55]] \n",
      "\n",
      "[[ 2]\n",
      " [12]\n",
      " [22]\n",
      " [32]\n",
      " [42]\n",
      " [52]]\n"
     ]
    }
   ],
   "source": [
    "# EJERCICIO N°1\n",
    "w=np.array([ [0 ,1 ,2 ,3 ,4 ,5],\n",
    "             [10,11,12,13,14,15],\n",
    "             [20,21,22,23,24,25],\n",
    "             [30,31,32,33,34,35],\n",
    "             [40,41,42,43,44,45],\n",
    "             [50,51,52,53,54,55]])\n",
    "print(w.shape,'\\n')\n",
    "print(w,'\\n')\n",
    "print(w[:1,3:5],'\\n')\n",
    "print(w[4:6,4:6],'\\n')\n",
    "print(w[:6,2:3])"
   ]
  },
  {
   "cell_type": "code",
   "execution_count": 36,
   "id": "cb9588bb",
   "metadata": {},
   "outputs": [
    {
     "name": "stdout",
     "output_type": "stream",
     "text": [
      "[[ 0  1  2  3  4]\n",
      " [ 5  6  7  8  9]\n",
      " [10 11 12 13 14]\n",
      " [15 16 17 18 19]\n",
      " [20 21 22 23 24]]\n"
     ]
    }
   ],
   "source": [
    "# EJERCICIO N°2\n",
    "# formamos la matriz\n",
    "d=np.arange(25).reshape(5,5)\n",
    "print(d)"
   ]
  },
  {
   "cell_type": "code",
   "execution_count": 38,
   "id": "52b1a18a",
   "metadata": {},
   "outputs": [
    {
     "name": "stdout",
     "output_type": "stream",
     "text": [
      "[[ 1]\n",
      " [ 6]\n",
      " [11]\n",
      " [16]\n",
      " [21]] \n",
      "\n",
      "[[ 3]\n",
      " [ 8]\n",
      " [13]\n",
      " [18]\n",
      " [23]] \n",
      "\n",
      "[[ 1  3]\n",
      " [ 6  8]\n",
      " [11 13]\n",
      " [16 18]\n",
      " [21 23]] \n",
      "\n",
      "[20 21 22 23 24] \n",
      "\n",
      "[[5 7]] \n",
      "\n",
      "[15 17] \n",
      "\n",
      "[[ 5  7]\n",
      " [15 17]] \n",
      "\n"
     ]
    }
   ],
   "source": [
    "red1=d[0:5,1:2]\n",
    "red2=d[0:5,3:4]\n",
    "red=d[0:5,1:4:2]\n",
    "yellow=d[4] #d[4:5,0:5]\n",
    "blue1=d[1:2,0:3:2]\n",
    "blue2=d[3,:3:2]\n",
    "blue=d[1:4:2,0:3:2]\n",
    "print(red1,'\\n')\n",
    "print(red2,'\\n')\n",
    "print(red,'\\n')\n",
    "print(yellow,'\\n')\n",
    "print(blue1,'\\n')\n",
    "print(blue2,'\\n')\n",
    "print(blue,'\\n')"
   ]
  },
  {
   "cell_type": "markdown",
   "id": "c42360a6",
   "metadata": {},
   "source": [
    "## COPIA"
   ]
  },
  {
   "cell_type": "code",
   "execution_count": 40,
   "id": "72c5409b",
   "metadata": {},
   "outputs": [
    {
     "name": "stdout",
     "output_type": "stream",
     "text": [
      "[1 2 3 4] \n",
      "\n",
      "1851484502800 \n",
      "\n",
      "[1 2] \n",
      "\n",
      "1851484500880 \n",
      "\n",
      "[ 1 45] \n",
      "\n",
      "[ 1 45  3  4] \n",
      "\n",
      "True\n"
     ]
    }
   ],
   "source": [
    "# Tenemos un vector\n",
    "a=np.array([1,2,3,4])\n",
    "print(a,'\\n')\n",
    "print(id(a),'\\n')\n",
    "b=a[:2]\n",
    "print(b,'\\n')\n",
    "print(id(b),'\\n')\n",
    "b[1]=45\n",
    "print(b,'\\n')\n",
    "print(a,'\\n')\n",
    "print(np.shares_memory(a,b))\n"
   ]
  },
  {
   "cell_type": "code",
   "execution_count": 41,
   "id": "3f910f23",
   "metadata": {},
   "outputs": [
    {
     "name": "stdout",
     "output_type": "stream",
     "text": [
      "[1 2 3 4] \n",
      "\n",
      "[1 2 3 4] \n",
      "\n",
      "[444   2   3   4] \n",
      "\n",
      "[1 2 3 4] \n",
      "\n",
      "False\n"
     ]
    }
   ],
   "source": [
    "a=np.array([1,2,3,4])\n",
    "print(a,'\\n')\n",
    "b=a[:2]\n",
    "b=a.copy()\n",
    "print(b,'\\n')\n",
    "b[0]=444\n",
    "print(b,'\\n')\n",
    "print(a,'\\n')\n",
    "print(np.shares_memory(a,b))"
   ]
  },
  {
   "cell_type": "code",
   "execution_count": null,
   "id": "32349efe",
   "metadata": {},
   "outputs": [],
   "source": [
    "# SE LLAMA INDEXACION ELEGANTE, INDEXACIÓN BOLEANA O ENMASCARAMIENTO"
   ]
  },
  {
   "cell_type": "markdown",
   "id": "2bd5b92b",
   "metadata": {},
   "source": [
    "## INDEXACIÓN ELEGANTE EN 2D"
   ]
  },
  {
   "cell_type": "code",
   "execution_count": 42,
   "id": "9f63bb24",
   "metadata": {},
   "outputs": [
    {
     "name": "stdout",
     "output_type": "stream",
     "text": [
      "[[ 3  5  6]\n",
      " [ 6  8  9]\n",
      " [ 3  5  9]\n",
      " [10  5  6]] \n",
      "\n",
      "[[ 3  5]\n",
      " [10  5]] \n",
      "\n",
      "[[ 3  5]\n",
      " [10  5]] \n",
      "\n",
      "[[ 3  5]\n",
      " [10  5]] \n",
      "\n"
     ]
    }
   ],
   "source": [
    "# TEORIA\n",
    "\n",
    "r=np.array([[3,5,6],\n",
    "            [6,8,9],\n",
    "            [3,5,9],\n",
    "            [10,5,6]])\n",
    "print(r,'\\n')\n",
    "print(r[2:4,0:2],'\\n') # utilizando el slicing o corte\n",
    "print(r[[2,3],0:2],'\\n') # utilizando la indexacion elegante\n",
    "print(r[2:4,[0,1]],'\\n') # utilizando la indexacion elegante\n"
   ]
  },
  {
   "cell_type": "markdown",
   "id": "9541c5a3",
   "metadata": {},
   "source": [
    "# MASCARA CON BOLEANOS"
   ]
  },
  {
   "cell_type": "code",
   "execution_count": 43,
   "id": "62f78e11",
   "metadata": {},
   "outputs": [
    {
     "name": "stdout",
     "output_type": "stream",
     "text": [
      "[ 0 10 20 30 40 50 60 70] \n",
      "\n",
      "[False  True  True False  True False  True False] \n",
      "\n",
      "[10 20 40 60] \n",
      "\n",
      "[False  True  True False  True False  True False] \n",
      "\n",
      "[10 20 40 60] \n",
      "\n",
      "[40 50 60 70]\n"
     ]
    }
   ],
   "source": [
    "# LO QUE PERMITE LA INDEXACION ELEGANTE\n",
    "# Hacemos uso de una mascara: son valores que ocupan ciertas ubicaciones.\n",
    "# esas ubicaciones primero pasan por un filtro o validacion\n",
    "# Se muestra internamente el funcionamiento de la mascara\n",
    "\n",
    "r=np.array([0,10,20,30,40,50,60,70])\n",
    "mask1=np.array([0,1,1,0,1,0,1,0],dtype='bool')\n",
    "mask2=np.array([False,True,True,False,True,False,True,False])\n",
    "print(r,'\\n')\n",
    "print(mask1,'\\n')\n",
    "print(r[mask1],'\\n')\n",
    "print(mask2,'\\n')\n",
    "print(r[mask2],'\\n')\n",
    "\n",
    "# Generalmente la vemos de esta forma\n",
    "print(r[r>36]) #r=np.array([0,10,20,30,40,50,60,70])"
   ]
  },
  {
   "cell_type": "markdown",
   "id": "77b14a94",
   "metadata": {},
   "source": [
    "## EJEMPLO"
   ]
  },
  {
   "cell_type": "code",
   "execution_count": 50,
   "id": "065515c6",
   "metadata": {},
   "outputs": [
    {
     "name": "stdout",
     "output_type": "stream",
     "text": [
      "[[ 0  1  2  3  4  5]\n",
      " [10 11 12 13 14 15]\n",
      " [20 21 22 23 24 25]\n",
      " [30 31 32 33 34 35]\n",
      " [40 41 42 43 44 45]\n",
      " [50 51 52 53 54 55]] \n",
      "\n"
     ]
    }
   ],
   "source": [
    "q=np.arange(60,step=10).reshape(6,1) + np.arange(6,step=1)\n",
    "print(q,'\\n')"
   ]
  },
  {
   "cell_type": "code",
   "execution_count": 51,
   "id": "6d183014",
   "metadata": {},
   "outputs": [
    {
     "name": "stdout",
     "output_type": "stream",
     "text": [
      "[[ 0  1  2  3  4  5]\n",
      " [10 11 12 13 14 15]\n",
      " [20 21 22 23 24 25]\n",
      " [30 31 32 33 34 35]\n",
      " [40 41 42 43 44 45]\n",
      " [50 51 52 53 54 55]] \n",
      "\n",
      "[ 1 14 43 35 22] \n",
      "\n",
      "[(0, 1), (1, 4), (4, 3), (3, 5), (2, 2)] \n",
      "\n",
      "[10 33 44 52  0]\n"
     ]
    }
   ],
   "source": [
    "# Armamos la MATRIZ\n",
    "\n",
    "q=np.arange(60,step=10).reshape(6,1) + np.arange(6,step=1)\n",
    "print(q,'\\n')\n",
    "rows=[0,1,4,3,2]\n",
    "cols=[1,4,3,5,2]\n",
    "# .reshape(6,1)\n",
    "#np.arange(6,step=1)\n",
    "# Indexacion elegante\n",
    "\n",
    "print(q[rows,cols],'\\n')  # print(q[[0,1,4,3,2],cols=[1,4,3,5,2]],'\\n')\n",
    "\n",
    "# Con esto podemos visualizar que sucede internamente con la indexacion elegante\n",
    "\n",
    "print(list(zip(rows,cols)),'\\n')\n",
    "\n",
    "# otro ejemplo:\n",
    "\n",
    "# 10->(1,0)  33->(3,3)  44->(4,4)  52->(5,2)  0->(0,0)\n",
    "print(q[[1,3,4,5,0],[0,3,4,2,0]])\n"
   ]
  },
  {
   "cell_type": "code",
   "execution_count": 56,
   "id": "4b8a1e58",
   "metadata": {},
   "outputs": [
    {
     "name": "stdout",
     "output_type": "stream",
     "text": [
      "[[ 0  1  2  3  4  5]\n",
      " [10 11 12 13 14 15]\n",
      " [20 21 22 23 24 25]\n",
      " [30 31 32 33 34 35]\n",
      " [40 41 42 43 44 45]\n",
      " [50 51 52 53 54 55]] \n",
      "\n",
      "[ 1 12 23 34 45] \n",
      "\n",
      "[[30 32 35]\n",
      " [40 42 45]\n",
      " [50 52 55]] \n",
      "\n",
      "--------------------------------------------------------------\n",
      "\n",
      " [ 1 12 23 34 45] \n",
      "\n",
      "1851484542896 \t 1851484542608 \n",
      "\n",
      "False \n",
      "\n",
      "[ 2 22 52] \n",
      "\n",
      "[ 2 22 52]\n"
     ]
    }
   ],
   "source": [
    "# EJERCICIO N°1\n",
    "\n",
    "# MATRIZ ORIGINAL\n",
    "\n",
    "s=np.arange(60,step=10).reshape(6,1)+np.arange(6,step=1)\n",
    "print(s,'\\n')\n",
    "\n",
    "# al realizar una indexacion elegante se copia porciones y/o rebanadas de la matriz original\n",
    "\n",
    "print(s[[0,1,2,3,4],[1,2,3,4,5]],'\\n') # tipo indexacion elegante, NARANJA\n",
    "print(s[3:,[0,2,5]],'\\n') # no sciling ya que no hay un patron, AZUL \n",
    "print('--------------------------------------------------------------')\n",
    "\n",
    "# COMPROVAMOS SI SE REALIZO UNA COPIA\n",
    "\n",
    "v=s[[0,1,2,3,4],[1,2,3,4,5]]\n",
    "print('\\n',v,'\\n')\n",
    "print(id(s),'\\t',id(v),'\\n')\n",
    "print(np.shares_memory(s,v),'\\n')\n",
    "print(s[[0,2,5],[2]],'\\n') # color ROJO, primera forma\n",
    "mask=np.array([1,0,1,0,0,1],dtype='bool')\n",
    "print(s[mask,[2]]) # color ROJO, segunda forma\n",
    "\n",
    "\n"
   ]
  },
  {
   "cell_type": "code",
   "execution_count": 57,
   "id": "3c853fd1",
   "metadata": {},
   "outputs": [
    {
     "name": "stdout",
     "output_type": "stream",
     "text": [
      "[ 0 11 22 33 44 55] \n",
      "\n",
      "[ 1 12 23 34 45] \n",
      "\n",
      "[ 2 13 24 35]\n"
     ]
    }
   ],
   "source": [
    "# DIAGINAL DE UNA MATRIZ\n",
    "\n",
    "d=np.diag(s)\n",
    "print(d,'\\n')\n",
    "d=np.diag(s,1)\n",
    "print(d,'\\n')\n",
    "d=np.diag(s,2)\n",
    "print(d)"
   ]
  },
  {
   "cell_type": "code",
   "execution_count": 58,
   "id": "1d5b49e8",
   "metadata": {},
   "outputs": [
    {
     "name": "stdout",
     "output_type": "stream",
     "text": [
      "[[ 0  1  2  3  4]\n",
      " [ 5  6  7  8  9]\n",
      " [10 11 12 13 14]\n",
      " [15 16 17 18 19]\n",
      " [20 21 22 23 24]] \n",
      "\n"
     ]
    }
   ],
   "source": [
    "# EJERCICIO N°2\n",
    "\n",
    "# ARMAMOS LA MATRIZ\n",
    "u=np.arange(25).reshape(5,5)\n",
    "print(u,'\\n')\n"
   ]
  },
  {
   "cell_type": "code",
   "execution_count": null,
   "id": "76ff33f3",
   "metadata": {},
   "outputs": [],
   "source": [
    "# aplicamos la funcion diagonal\n",
    "# PRIMERA FORMA\n",
    "w=np.diag(u,1)\n",
    "print(w,'\\n')\n",
    "\n",
    "# 10->(2,1)  6->(1,1)  3->(0,3)  19->(3,4)\n",
    "print(u[[2,1,0,3],[0,1,3,4]])"
   ]
  },
  {
   "cell_type": "code",
   "execution_count": 59,
   "id": "4ca41a85",
   "metadata": {},
   "outputs": [
    {
     "name": "stdout",
     "output_type": "stream",
     "text": [
      "[ 0  3  6  9 12 15 18 21 24] \n",
      "\n",
      "[ 1  3  5  7  9 11 13 15 17 19 21 23] \n",
      "\n",
      "[ 0  2  4  6  8 10 12 14 16 18 20 22 24] \n",
      "\n"
     ]
    }
   ],
   "source": [
    "# TENER VALIDACIONES\n",
    "\n",
    "t1=u[u%3==0] # multiplos de 3\n",
    "t2=u[u%2!=0] # numeros impares\n",
    "t3=u[u%2==0] # numeros pares\n",
    "print(t1,'\\n')\n",
    "print(t2,'\\n')\n",
    "print(t3,'\\n')"
   ]
  },
  {
   "cell_type": "code",
   "execution_count": null,
   "id": "19aaf13f",
   "metadata": {},
   "outputs": [],
   "source": [
    "# Haciendo uso de una mascara, entonces trabajemos con los boleanos\n",
    "# Procedimiento para la mascara\n",
    "\n",
    "print(u%3==0,'\\n')\n",
    "e= u%3==0\n",
    "print(e,'\\n')\n",
    "print(u[e],'\\n')\n",
    "\n",
    "print(u[u%3==0]) # forma directa"
   ]
  },
  {
   "cell_type": "markdown",
   "id": "40d460ba",
   "metadata": {},
   "source": [
    "## FUNCIONES QUE CREAN MATRICES"
   ]
  },
  {
   "cell_type": "code",
   "execution_count": null,
   "id": "574d4f1d",
   "metadata": {},
   "outputs": [],
   "source": [
    "# Ahora ya no habra que crear nuestras propias matrices y usarlas.\n",
    "# Sino que ahora usaremos matrices ya creadas y las usaremos"
   ]
  },
  {
   "cell_type": "code",
   "execution_count": null,
   "id": "3f211606",
   "metadata": {},
   "outputs": [],
   "source": [
    "s=np.array([2,3,4.,3])\n",
    "print(s.dtype,'\\n')\n",
    "m=np.array([2,3,4.,3],dtype='int32')\n",
    "print(m.dtype)\n"
   ]
  },
  {
   "cell_type": "code",
   "execution_count": null,
   "id": "25825ac3",
   "metadata": {},
   "outputs": [],
   "source": [
    "# Orden de jerarquia\n",
    "# bool < int < float < complex  ->(se duplica la presición)"
   ]
  },
  {
   "cell_type": "markdown",
   "id": "5ac33b22",
   "metadata": {},
   "source": [
    "## ARANGE"
   ]
  },
  {
   "cell_type": "code",
   "execution_count": null,
   "id": "c3f54af9",
   "metadata": {},
   "outputs": [],
   "source": [
    "# Signidfica ranfo de una MATRIZ, es como el generador de funciones range()"
   ]
  },
  {
   "cell_type": "code",
   "execution_count": null,
   "id": "05381b2c",
   "metadata": {},
   "outputs": [],
   "source": [
    "l=list(range(0,6,2))\n",
    "print(l)"
   ]
  },
  {
   "cell_type": "code",
   "execution_count": null,
   "id": "5644855f",
   "metadata": {},
   "outputs": [],
   "source": [
    "n4=np.arange(100,200,10)\n",
    "print(n4)"
   ]
  },
  {
   "cell_type": "code",
   "execution_count": 128,
   "id": "28f83df0",
   "metadata": {},
   "outputs": [
    {
     "name": "stdout",
     "output_type": "stream",
     "text": [
      "[0 1 2 3 4 5 6 7 8] \n",
      "\n",
      "[ 9 10 11 12 13 14 15 16 17] \n",
      "\n",
      "[ 9.  10.5 12.  13.5 15.  16.5] \n",
      "\n"
     ]
    }
   ],
   "source": [
    "q=np.arange(9)\n",
    "print(q,'\\n')\n",
    "q=np.arange(9,18)\n",
    "print(q,'\\n')\n",
    "q=np.arange(9,18,1.5)\n",
    "print(q,'\\n')"
   ]
  },
  {
   "cell_type": "code",
   "execution_count": 146,
   "id": "71691846-5f85-4e0b-9f61-5e139d0400a2",
   "metadata": {},
   "outputs": [
    {
     "name": "stdout",
     "output_type": "stream",
     "text": [
      "[0 1 2 3 4 5 6 7 8 9] <class 'numpy.ndarray'>\n"
     ]
    }
   ],
   "source": [
    "s=np.arange(10)\n",
    "print(s,type(s))        "
   ]
  },
  {
   "cell_type": "code",
   "execution_count": 151,
   "id": "1bf030e8-d645-484e-9be5-e767e57b6959",
   "metadata": {},
   "outputs": [
    {
     "name": "stdout",
     "output_type": "stream",
     "text": [
      "Los números mayores a 3, serán multiplicados por 3: [0 1 2 3 4 5 6 7 8 9]\n",
      "[ 0  1  2  3 12 15 18 21 24 27]\n"
     ]
    }
   ],
   "source": [
    "s=np.arange(10)\n",
    "print('Los números mayores a 3, serán multiplicados por 3:',s)\n",
    "s[s>3]=s[s>3]*3\n",
    "print(s)"
   ]
  },
  {
   "cell_type": "markdown",
   "id": "2880f525",
   "metadata": {},
   "source": [
    "## DIFERENTES TIPOS DE MATRICES BIDIMENSIONALES\n"
   ]
  },
  {
   "cell_type": "code",
   "execution_count": 60,
   "id": "0d19a279",
   "metadata": {},
   "outputs": [
    {
     "name": "stdout",
     "output_type": "stream",
     "text": [
      "[[2. 2. 2. 2. 2. 2.]\n",
      " [2. 2. 2. 2. 2. 2.]\n",
      " [2. 2. 2. 2. 2. 2.]]\n",
      "[[100. 100. 100. 100. 100.]\n",
      " [100. 100. 100. 100. 100.]\n",
      " [100. 100. 100. 100. 100.]]\n"
     ]
    }
   ],
   "source": [
    "e=np.ones([3,6])*2\n",
    "print(e)\n",
    "e=np.ones((3,5))*100\n",
    "print(e)"
   ]
  },
  {
   "cell_type": "code",
   "execution_count": 61,
   "id": "374f4272",
   "metadata": {},
   "outputs": [
    {
     "name": "stdout",
     "output_type": "stream",
     "text": [
      "[1. 1. 1. 1. 1. 1.] \n",
      "\n",
      "float64 \n",
      "\n",
      "int32 \n",
      "\n",
      "--------------------------------------------------------------\n",
      "[[1 1 1 1 1 1]\n",
      " [1 1 1 1 1 1]\n",
      " [1 1 1 1 1 1]\n",
      " [1 1 1 1 1 1]\n",
      " [1 1 1 1 1 1]] \n",
      "\n",
      "int32 \n",
      "\n"
     ]
    }
   ],
   "source": [
    "w=np.ones(6)\n",
    "print(w,'\\n')\n",
    "print(w.dtype,'\\n')\n",
    "a=np.ones(6,dtype='int32')\n",
    "print(a.dtype,'\\n')\n",
    "print('--------------------------------------------------------------')\n",
    "p=np.ones((5,6),dtype=int)\n",
    "print(p,'\\n')\n",
    "print(p.dtype,'\\n')"
   ]
  },
  {
   "cell_type": "code",
   "execution_count": null,
   "id": "dd1f9e7f",
   "metadata": {},
   "outputs": [],
   "source": [
    "w=np.zeros(8)\n",
    "print(w,'\\n')\n",
    "print(w.dtype,'\\n')\n",
    "a=np.zeros(8,dtype='int32')\n",
    "print(a.dtype,'\\n')\n",
    "print('--------------------------------------------------------------')\n",
    "p=np.zeros((5,6))\n",
    "print(p,'\\n')\n",
    "print(p.dtype,'\\n')"
   ]
  },
  {
   "cell_type": "code",
   "execution_count": 63,
   "id": "da913410",
   "metadata": {},
   "outputs": [
    {
     "name": "stdout",
     "output_type": "stream",
     "text": [
      "[[100 100 100 100 100 100 100]\n",
      " [100 100 100 100 100 100 100]\n",
      " [100 100 100 100 100 100 100]\n",
      " [100 100 100 100 100 100 100]\n",
      " [100 100 100 100 100 100 100]]\n"
     ]
    }
   ],
   "source": [
    "r=np.full([5,7],100)\n",
    "print(r)"
   ]
  },
  {
   "cell_type": "code",
   "execution_count": 15,
   "id": "b59b1467",
   "metadata": {},
   "outputs": [
    {
     "name": "stdout",
     "output_type": "stream",
     "text": [
      "[[5 5 5 5 5 5 5 5]\n",
      " [5 5 5 5 5 5 5 5]\n",
      " [5 5 5 5 5 5 5 5]\n",
      " [5 5 5 5 5 5 5 5]]\n"
     ]
    }
   ],
   "source": [
    "n2=np.full([4,8],5)\n",
    "print(n2)"
   ]
  },
  {
   "cell_type": "code",
   "execution_count": 23,
   "id": "1210efda-08ee-45fb-a762-ee219fa3f21a",
   "metadata": {},
   "outputs": [
    {
     "name": "stdout",
     "output_type": "stream",
     "text": [
      "MATRIZ IDENTIDAD\n",
      "[[1. 0. 0. 0. 0.]\n",
      " [0. 1. 0. 0. 0.]\n",
      " [0. 0. 1. 0. 0.]\n",
      " [0. 0. 0. 1. 0.]\n",
      " [0. 0. 0. 0. 1.]] \n",
      "\n",
      "[[1. 1. 1. 1. 1. 1. 1. 1. 1. 1.]\n",
      " [1. 0. 0. 0. 0. 0. 0. 0. 0. 1.]\n",
      " [1. 0. 0. 0. 0. 0. 0. 0. 0. 1.]\n",
      " [1. 0. 0. 0. 0. 0. 0. 0. 0. 1.]\n",
      " [1. 0. 0. 0. 0. 0. 0. 0. 0. 1.]\n",
      " [1. 0. 0. 0. 0. 0. 0. 0. 0. 1.]\n",
      " [1. 0. 0. 0. 0. 0. 0. 0. 0. 1.]\n",
      " [1. 0. 0. 0. 0. 0. 0. 0. 0. 1.]\n",
      " [1. 0. 0. 0. 0. 0. 0. 0. 0. 1.]\n",
      " [1. 1. 1. 1. 1. 1. 1. 1. 1. 1.]]\n"
     ]
    }
   ],
   "source": [
    "matriz=np.identity(5); print('MATRIZ IDENTIDAD')\n",
    "print(matriz,'\\n')\n",
    "matriz2=np.ones([10,10])\n",
    "matriz2[1:9,1:9]=0\n",
    "print(matriz2)"
   ]
  },
  {
   "cell_type": "code",
   "execution_count": 31,
   "id": "2e338b11-be0d-43ed-be4c-cd673a88811f",
   "metadata": {},
   "outputs": [
    {
     "name": "stdout",
     "output_type": "stream",
     "text": [
      "[[1 0 0 0 0]\n",
      " [0 2 0 0 0]\n",
      " [0 0 3 0 0]\n",
      " [0 0 0 4 0]\n",
      " [0 0 0 0 5]]\n"
     ]
    }
   ],
   "source": [
    "s1=np.arange(1,26).reshape(5,5)\n",
    "s2=np.random.randint(3,8,25).reshape(5,5)\n",
    "m=np.diag([1,2,3,4,5])\n",
    "print(m)"
   ]
  },
  {
   "cell_type": "code",
   "execution_count": 65,
   "id": "4adfdd8c-bc65-41b8-bacc-837195db87ff",
   "metadata": {},
   "outputs": [
    {
     "name": "stdout",
     "output_type": "stream",
     "text": [
      "[[0. 1. 0. 1.]\n",
      " [1. 0. 1. 0.]\n",
      " [0. 1. 0. 1.]\n",
      " [1. 0. 1. 0.]]\n"
     ]
    }
   ],
   "source": [
    "s=np.zeros(16).reshape(4,4)\n",
    "s[::2,1::2]=1\n",
    "s[1::2,::2]=1\n",
    "print(s)"
   ]
  },
  {
   "cell_type": "markdown",
   "id": "e475e1b1-7dbe-45bd-949a-1ab7fcfd6194",
   "metadata": {},
   "source": [
    "## PRODUCTO PUNTO O ESCALAR"
   ]
  },
  {
   "cell_type": "code",
   "execution_count": 67,
   "id": "a27a67d5-f6b6-4b45-9bed-7d9c0e7ecdd7",
   "metadata": {},
   "outputs": [
    {
     "name": "stdout",
     "output_type": "stream",
     "text": [
      "5.0\n",
      "5.0\n"
     ]
    }
   ],
   "source": [
    "a=np.array([1,2,3])\n",
    "b=np.array([0.1,2,0.3])\n",
    "print(a@b)\n",
    "print(np.dot(a,b))"
   ]
  },
  {
   "cell_type": "markdown",
   "id": "0bfe9c7c-af3a-45e2-9e69-1d92f57e209a",
   "metadata": {},
   "source": [
    "## CREANDO MATRICES TRIDIMENSIONALES"
   ]
  },
  {
   "cell_type": "code",
   "execution_count": 54,
   "id": "1718d437-3dde-4a86-b4fa-af88c7e309d2",
   "metadata": {},
   "outputs": [
    {
     "name": "stdout",
     "output_type": "stream",
     "text": [
      "[[[0.68976576 0.53812406 0.51583157]\n",
      "  [0.15673708 0.78237152 0.84174235]]\n",
      "\n",
      " [[0.1837956  0.1577391  0.14695851]\n",
      "  [0.20707744 0.75628152 0.78450778]]\n",
      "\n",
      " [[0.88132672 0.22681818 0.40785545]\n",
      "  [0.60596437 0.46008627 0.28257006]]\n",
      "\n",
      " [[0.55247775 0.5268758  0.69163322]\n",
      "  [0.42028637 0.09695336 0.7293751 ]]]\n",
      "3\n",
      "(4, 2, 3)\n"
     ]
    }
   ],
   "source": [
    "a=np.random.random((4,2,3))\n",
    "print(a)\n",
    "print(a.ndim)\n",
    "print(a.shape)"
   ]
  },
  {
   "cell_type": "markdown",
   "id": "f884200a",
   "metadata": {},
   "source": [
    "## LINSPACE Y LONGSPACE"
   ]
  },
  {
   "cell_type": "code",
   "execution_count": 126,
   "id": "df22f3e4-3984-4937-9b88-d5e1c871b7c1",
   "metadata": {},
   "outputs": [
    {
     "name": "stdout",
     "output_type": "stream",
     "text": [
      "5 VALORES ESPACIADOS ENTRE EL 10 Y 50:\n",
      "[10. 20. 30. 40. 50.]\n"
     ]
    }
   ],
   "source": [
    "w=np.linspace(10,50,5); print('5 VALORES ESPACIADOS ENTRE EL 10 Y 50:')\n",
    "print(w)"
   ]
  },
  {
   "cell_type": "code",
   "execution_count": 65,
   "id": "297a2809",
   "metadata": {},
   "outputs": [
    {
     "name": "stdout",
     "output_type": "stream",
     "text": [
      "[0.  1.5 3.  4.5 6. ] \n",
      "\n",
      "[0 1 3 4 6]\n"
     ]
    }
   ],
   "source": [
    "e=np.linspace(0,6,5)\n",
    "print(e,'\\n')\n",
    "u=np.linspace(0,6,5,dtype=int)\n",
    "print(u)"
   ]
  },
  {
   "cell_type": "code",
   "execution_count": 66,
   "id": "64bb62c6",
   "metadata": {},
   "outputs": [
    {
     "name": "stdout",
     "output_type": "stream",
     "text": [
      "[ 1.          1.77827941  3.16227766  5.62341325 10.        ] \n",
      "\n",
      "[ 1  1  3  5 10] \n",
      "\n",
      "[1.         1.18920712 1.41421356 1.68179283 2.        ]\n"
     ]
    }
   ],
   "source": [
    "e=np.logspace(0,1,5)\n",
    "print(e,'\\n')\n",
    "u=np.logspace(0,1,5,dtype=int)\n",
    "print(u,'\\n')\n",
    "t=np.logspace(0,1,5,base=2)\n",
    "print(t)"
   ]
  },
  {
   "cell_type": "markdown",
   "id": "807ea7cc",
   "metadata": {},
   "source": [
    "## OPERACIONES CON LOS ' ndarrays '"
   ]
  },
  {
   "cell_type": "code",
   "execution_count": 67,
   "id": "cdb3ae29",
   "metadata": {},
   "outputs": [
    {
     "name": "stdout",
     "output_type": "stream",
     "text": [
      "[4 9 6] \n",
      "\n",
      "[5 6 8] \n",
      "\n",
      "[5 6 8]\n"
     ]
    }
   ],
   "source": [
    "# REGLAS DE DIFUSIÓN\n",
    "# REGLA N°1:\n",
    "\n",
    "r=np.array([2,3,5])\n",
    "p=np.array([2,6,1]) # p=np.array([2,6])\n",
    "s=r+p\n",
    "print(s,'\\n')\n",
    "y=np.array([3])\n",
    "d=r+y\n",
    "print(d,'\\n')\n",
    "d=np.array([2,3,5]) + 3\n",
    "print(d)"
   ]
  },
  {
   "cell_type": "code",
   "execution_count": 76,
   "id": "52562e08",
   "metadata": {},
   "outputs": [
    {
     "name": "stdout",
     "output_type": "stream",
     "text": [
      "[11 13 15 17 19]\n",
      "[-9 -9 -9 -9 -9]\n",
      "[10 22 36 52 70]\n",
      "[0.1        0.18181818 0.25       0.30769231 0.35714286]\n",
      "[    10    121   1728  28561 537824]\n"
     ]
    }
   ],
   "source": [
    "# REGLA N°2:\n",
    "\n",
    "a=np.array([1,2,3,4,5])\n",
    "b=np.array([10,11,12,13,14])\n",
    "print(a+b)\n",
    "print(a-b)\n",
    "print(a*b)\n",
    "print(a/b)\n",
    "print(b**a)"
   ]
  },
  {
   "cell_type": "code",
   "execution_count": 80,
   "id": "2d581dd8-1021-47c7-86c9-053fb58ce7fb",
   "metadata": {},
   "outputs": [
    {
     "name": "stdout",
     "output_type": "stream",
     "text": [
      "[[ 1  2  3]\n",
      " [ 4  5  6]\n",
      " [ 7  8  9]\n",
      " [10 11 12]] \n",
      "\n",
      "[10 10 10] \n",
      "\n",
      "[[11 12 13]\n",
      " [14 15 16]\n",
      " [17 18 19]\n",
      " [20 21 22]] \n",
      "\n",
      "[[-9 -8 -7]\n",
      " [-6 -5 -4]\n",
      " [-3 -2 -1]\n",
      " [ 0  1  2]] \n",
      "\n",
      "[[ 10  20  30]\n",
      " [ 40  50  60]\n",
      " [ 70  80  90]\n",
      " [100 110 120]] \n",
      "\n",
      "[[0.1 0.2 0.3]\n",
      " [0.4 0.5 0.6]\n",
      " [0.7 0.8 0.9]\n",
      " [1.  1.1 1.2]] \n",
      "\n"
     ]
    }
   ],
   "source": [
    "a=np.arange(1,13).reshape(4,3)\n",
    "b=np.array([10,10,10])\n",
    "print(a,'\\n')\n",
    "print(b,'\\n')\n",
    "print(np.add(a,b),'\\n')\n",
    "print(np.subtract(a,b),'\\n')\n",
    "print(np.multiply(a,b),'\\n')\n",
    "print(np.divide(a,b),'\\n')"
   ]
  },
  {
   "cell_type": "code",
   "execution_count": 27,
   "id": "dffcae47-d313-4818-9033-9a0cccae86a1",
   "metadata": {},
   "outputs": [
    {
     "name": "stdout",
     "output_type": "stream",
     "text": [
      "[ 5  6  7  8  9 10 11 12]\n",
      "[ 7  9 11]\n"
     ]
    }
   ],
   "source": [
    "a=np.arange(5,13)\n",
    "print(a)\n",
    "s=slice(2,9,2)\n",
    "print(a[s])"
   ]
  },
  {
   "cell_type": "code",
   "execution_count": 40,
   "id": "be3194ec-3a9d-4bd7-81a0-d08fefcb6a6c",
   "metadata": {},
   "outputs": [
    {
     "name": "stdout",
     "output_type": "stream",
     "text": [
      "[ 5  6  7  8  9 10 11 12 13 14 15 16 17 18 19]\n",
      "[array([5, 6, 7, 8, 9]), array([10, 11, 12]), array([13, 14, 15, 16, 17, 18, 19])]\n"
     ]
    }
   ],
   "source": [
    "a=np.arange(5,20)\n",
    "print(a)\n",
    "print(np.split(a,[5,8]))"
   ]
  },
  {
   "cell_type": "code",
   "execution_count": 47,
   "id": "b589d9e7-6bc0-4760-b608-84717840b2fd",
   "metadata": {},
   "outputs": [
    {
     "name": "stdout",
     "output_type": "stream",
     "text": [
      "[ 1  2  3  4  5  6  7  8  9 10 11 12]\n",
      "\n",
      " [[ 1  2  3  4  5  6]\n",
      " [ 7  8  9 10 11 12]] \n",
      "\n",
      "\n",
      " [[1 2 3]\n",
      " [4 5 6]\n",
      " [7 8 9]] \n",
      "\n",
      "[[ 1  2  3  4  5  6  7  8  9 10]\n",
      " [11 12  1  2  3  4  5  6  7  8]\n",
      " [ 9 10 11 12  1  2  3  4  5  6]\n",
      " [ 7  8  9 10 11 12  1  2  3  4]\n",
      " [ 5  6  7  8  9 10 11 12  1  2]]\n"
     ]
    }
   ],
   "source": [
    "s=np.arange(1,13)\n",
    "print(s)\n",
    "s=s.reshape(2,6)\n",
    "print('\\n',s,'\\n')\n",
    "s1=np.resize(s,(3,3))\n",
    "s2=np.resize(s,(5,10))\n",
    "print('\\n',s1,'\\n')\n",
    "print(s2)"
   ]
  },
  {
   "cell_type": "markdown",
   "id": "e246cada-b0ee-434f-ad31-d830dd7eecf5",
   "metadata": {},
   "source": [
    "## MÉTODOS MUY SIMILARES A LOS STRINGS CON NUMPY"
   ]
  },
  {
   "cell_type": "code",
   "execution_count": 46,
   "id": "39c483d3-45cd-4bf8-9bc3-4d998c4b6269",
   "metadata": {},
   "outputs": [
    {
     "name": "stdout",
     "output_type": "stream",
     "text": [
      "4\n",
      "2\n",
      "30\n",
      "2.0\n",
      "\n",
      " ['holaQUE TAL' ' mundo. :)']  ->  (2,) \t 1\n",
      "\n",
      " ohhhhohhhhohhhhohhhh\n",
      "\n",
      " ---------- BIENVENIDOS ----------\n",
      "\n",
      " ['jose' 'maria']\n",
      "\n",
      " raul  ->  0\n",
      "\n",
      " ['hola,', 'no', 'pense', 'que', 'vendrías', 'por', 'acá!!!']  ->  <class 'numpy.ndarray'>\n",
      "\n",
      " ['hola', ' no pense que vendrías por acá!!!']  ->  <class 'numpy.ndarray'>\n",
      "\n",
      " ['nin' 'josefin' 'manzan']  ->  <class 'numpy.ndarray'>\n",
      "\n",
      " ['d:m:y' 'y-m-d']  ->  <class 'numpy.ndarray'>\n",
      "\n",
      " Eres un buen bailarín  ->  <class 'numpy.ndarray'>\n"
     ]
    }
   ],
   "source": [
    "# SOLO ES APLICABLE PARA ESCALARES\n",
    "print(np.add(1,3))\n",
    "print(np.subtract(3,1))\n",
    "print(np.multiply(5,6))\n",
    "print(np.divide(18,9))\n",
    "\n",
    "# APLICABLE PARA DATOS DE TIPO STRING\n",
    "s=np.char.add(['hola',' mundo.'],['QUE TAL',' :)'])\n",
    "print('\\n',s,' -> ',s.shape,'\\t',s.ndim)\n",
    "\n",
    "print('\\n',np.char.multiply('ohhhh',4))\n",
    "\n",
    "c=' BIENVENIDOS '\n",
    "print('\\n',np.char.center(c,len(c)+20,fillchar='-'))\n",
    "\n",
    "x2=np.char.lower(['JOSE','MARIA'])\n",
    "print('\\n',x2)\n",
    "\n",
    "x3=np.char.lower('RAUL')\n",
    "print('\\n',x3,' -> ',x3.ndim)\n",
    "\n",
    "x4=np.char.split('hola, no pense que vendrías por acá!!!')\n",
    "print('\\n',x4,' -> ' ,type(x4))\n",
    "\n",
    "x5=np.char.splitlines('hola\\n no pense que vendrías por acá!!!')\n",
    "print('\\n',x5,' -> ' ,type(x5),)\n",
    "\n",
    "x6=np.char.strip(['nina','josefina','manzana'],'a')\n",
    "print('\\n',x6,' -> ' ,type(x6),)\n",
    "\n",
    "x7=np.char.join([':','-'],['dmy','ymd'])\n",
    "print('\\n',x7,' -> ' ,type(x7),)\n",
    "\n",
    "x8=np.char.replace('Eres un buen ingeniero','ingeniero','bailarín')\n",
    "print('\\n',x8,' -> ' ,type(x8),)"
   ]
  },
  {
   "cell_type": "code",
   "execution_count": 76,
   "id": "4db08cbc-efd6-43ad-9bda-637006040154",
   "metadata": {},
   "outputs": [
    {
     "name": "stdout",
     "output_type": "stream",
     "text": [
      "[[ 1  2  3]\n",
      " [ 4  5  6]\n",
      " [ 7  8  9]\n",
      " [10 11 12]]\n",
      "\n",
      " [[ 2  3  3]\n",
      " [ 5  6  6]\n",
      " [ 8  9  9]\n",
      " [11 12 12]]\n"
     ]
    }
   ],
   "source": [
    "s=np.arange(1,13).reshape(4,3)\n",
    "v=np.array([1,1,0])\n",
    "print(s)\n",
    "m=np.empty_like(s)\n",
    "for i in range(4):\n",
    "    m[i,:]=m[i,:]+v\n",
    "print('\\n',m)"
   ]
  },
  {
   "cell_type": "code",
   "execution_count": 78,
   "id": "c6541755-4835-4322-9670-0ae3d6793f13",
   "metadata": {},
   "outputs": [
    {
     "name": "stdout",
     "output_type": "stream",
     "text": [
      "[1 2 3]\n",
      "<class 'numpy.ndarray'>\n",
      "\n",
      " [1, 2, 3]\n",
      "<class 'list'>\n"
     ]
    }
   ],
   "source": [
    "s=np.array([1,2,3])\n",
    "print(s)\n",
    "print(type(s))\n",
    "lista=s.tolist()\n",
    "print('\\n',lista)\n",
    "print(type(lista))"
   ]
  },
  {
   "cell_type": "markdown",
   "id": "def10fdf",
   "metadata": {},
   "source": [
    "## UNIENDO MATRICES"
   ]
  },
  {
   "cell_type": "code",
   "execution_count": 73,
   "id": "bed6b4df",
   "metadata": {},
   "outputs": [
    {
     "name": "stdout",
     "output_type": "stream",
     "text": [
      "[[10 20 30]\n",
      " [40 50 60]] \n",
      "\n",
      "[10 20 30 40 50 60]\n"
     ]
    }
   ],
   "source": [
    "n1=np.array([10,20,30])\n",
    "n2=np.array([40,50,60])\n",
    "e=np.vstack((n1,n2))\n",
    "print(e,'\\n')\n",
    "print(np.concatenate([n1,n2]))\n"
   ]
  },
  {
   "cell_type": "code",
   "execution_count": 80,
   "id": "c5103cc6-6b6e-4ce2-8673-72f39242e419",
   "metadata": {},
   "outputs": [
    {
     "name": "stdout",
     "output_type": "stream",
     "text": [
      "[[3 4 7 6 4 0 0 8 4 8]\n",
      " [4 1 8 7 9 7 2 1 3 2]]\n"
     ]
    },
    {
     "data": {
      "text/plain": [
       "[array([[3, 4, 7, 6, 4],\n",
       "        [4, 1, 8, 7, 9]]),\n",
       " array([[0, 0, 8, 4, 8],\n",
       "        [7, 2, 1, 3, 2]])]"
      ]
     },
     "execution_count": 80,
     "metadata": {},
     "output_type": "execute_result"
    }
   ],
   "source": [
    "s=np.random.randint(10,size=(2,10))\n",
    "print(s) \n",
    "b=np.hsplit(s,2)\n",
    "b"
   ]
  },
  {
   "cell_type": "code",
   "execution_count": 70,
   "id": "c858ba77",
   "metadata": {},
   "outputs": [
    {
     "name": "stdout",
     "output_type": "stream",
     "text": [
      "[10 20 30 40 50 60]\n"
     ]
    }
   ],
   "source": [
    "n1=np.array([10,20,30])\n",
    "n2=np.array([40,50,60])\n",
    "e=np.hstack((n1,n2))\n",
    "print(e)"
   ]
  },
  {
   "cell_type": "code",
   "execution_count": 72,
   "id": "5be2e385",
   "metadata": {},
   "outputs": [
    {
     "name": "stdout",
     "output_type": "stream",
     "text": [
      "[[10 40]\n",
      " [20 50]\n",
      " [30 60]]\n"
     ]
    }
   ],
   "source": [
    "n1=np.array([10,20,30])\n",
    "n2=np.array([40,50,60])\n",
    "e=np.column_stack((n1,n2))\n",
    "print(e)"
   ]
  },
  {
   "cell_type": "code",
   "execution_count": 26,
   "id": "834cd024-8b67-436f-89a7-7c37400aafe6",
   "metadata": {},
   "outputs": [
    {
     "name": "stdout",
     "output_type": "stream",
     "text": [
      "[[1 2 0]\n",
      " [3 4 8]\n",
      " [5 6 0]\n",
      " [7 8 9]]\n",
      "\n",
      " [[1 2 0]\n",
      " [3 4 8]\n",
      " [5 6 0]\n",
      " [7 8 9]] \n",
      "\n",
      "[[1 2 0 5 6 0]\n",
      " [3 4 8 7 8 9]]\n"
     ]
    }
   ],
   "source": [
    "n1=np.array([[1,2,0],[3,4,8]])\n",
    "n2=np.array([[5,6,0],[7,8,9]])\n",
    "print(np.concatenate((n1,n2)))\n",
    "print('\\n',np.concatenate((n1,n2),axis=0),'\\n')\n",
    "print(np.concatenate((n1,n2),axis=1))"
   ]
  },
  {
   "cell_type": "markdown",
   "id": "ff14fd67",
   "metadata": {},
   "source": [
    "## INTERSECCIÓN Y DIFERENCIA"
   ]
  },
  {
   "cell_type": "code",
   "execution_count": 72,
   "id": "75ce4ded",
   "metadata": {},
   "outputs": [
    {
     "name": "stdout",
     "output_type": "stream",
     "text": [
      "[50 60] \n",
      "\n",
      "[10 20 30 40] \n",
      "\n",
      "[70 80 90] \n",
      "\n"
     ]
    }
   ],
   "source": [
    "n1=np.array([10,20,30,40,50,60])\n",
    "n2=np.array([50,60,70,80,90])\n",
    "p1=np.intersect1d(n1,n2)\n",
    "p2=np.setdiff1d(n1,n2)\n",
    "p3=np.setdiff1d(n2,n1)\n",
    "print(p1,'\\n')\n",
    "print(p2,'\\n')\n",
    "print(p3,'\\n')"
   ]
  },
  {
   "cell_type": "markdown",
   "id": "0d0bda80",
   "metadata": {},
   "source": [
    "## MEDIA, MEDIA Y DESVIACIÓN ESTANDAR DE DATOS"
   ]
  },
  {
   "cell_type": "code",
   "execution_count": 49,
   "id": "bddb1575",
   "metadata": {},
   "outputs": [
    {
     "name": "stdout",
     "output_type": "stream",
     "text": [
      "25.0\n",
      "[3.16227766 4.47213595 5.47722558 6.32455532]\n",
      "[2.30258509 2.99573227 3.40119738 3.68887945]\n",
      "[1.         1.30103    1.47712125 1.60205999]\n"
     ]
    }
   ],
   "source": [
    "x=np.array([10,20,30,40])\n",
    "x1=np.mean(x)\n",
    "x2=np.sqrt(x)\n",
    "x3=np.log(x)\n",
    "x4=np.log10(x)\n",
    "print(x1)\n",
    "print(x2)\n",
    "print(x3)\n",
    "print(x4)"
   ]
  },
  {
   "cell_type": "code",
   "execution_count": null,
   "id": "0fbd25c4",
   "metadata": {},
   "outputs": [],
   "source": [
    "y=np.array([5,2,8,5,6,7,1,2])\n",
    "y1=np.median(y)\n",
    "print(y1,'\\n')\n",
    "y2=np.std(y) # desviacion estandar = sqrt(varianza)\n",
    "print(y2)"
   ]
  },
  {
   "cell_type": "code",
   "execution_count": 70,
   "id": "897e9ba3",
   "metadata": {},
   "outputs": [
    {
     "name": "stdout",
     "output_type": "stream",
     "text": [
      "[[2 5 5 6 8]\n",
      " [1 2 2 5 7]\n",
      " [1 5 6 7 8]\n",
      " [2 2 5 5 8]\n",
      " [1 2 5 6 7]\n",
      " [2 5 6 7 8]]\n"
     ]
    }
   ],
   "source": [
    "y=np.array([5,2,8,5,6,7,1,2])\n",
    "w=np.transpose(y)\n",
    "a=np.resize(w,[6,5])\n",
    "a.sort(axis=1)\n",
    "print(a)"
   ]
  },
  {
   "cell_type": "code",
   "execution_count": null,
   "id": "0b7095d2",
   "metadata": {
    "scrolled": true
   },
   "outputs": [],
   "source": [
    "# MULTIPLICACION DE MATRICES\n",
    "n1=np.array([[1,2,3],[4,5,6],[7,8,9]])\n",
    "print(n1,'\\n')\n",
    "n2=np.array([[9,8,7],[6,5,4],[3,2,1]])\n",
    "print(n2,'\\n')\n",
    "u1=n1.dot(n2)\n",
    "u2=n2.dot(n1)\n",
    "print(u1,'\\n')\n",
    "print(u2,'\\n')\n"
   ]
  },
  {
   "cell_type": "code",
   "execution_count": null,
   "id": "e22fb0dc",
   "metadata": {},
   "outputs": [],
   "source": [
    "a=np.ones((5,6))\n",
    "print(a,'\\n')\n",
    "print(a.shape,'\\n')\n",
    "print(a.sum(),'\\n')\n",
    "b=a.sum(axis=0)\n",
    "print(b,'\\n')\n",
    "print(b.shape,'\\n')\n",
    "c=a.sum(axis=1)\n",
    "print(c,'\\n')\n",
    "print(c.shape,'\\n')\n",
    "\n"
   ]
  },
  {
   "cell_type": "code",
   "execution_count": 51,
   "id": "f3f14019",
   "metadata": {},
   "outputs": [],
   "source": [
    "# https://docs.scipy.org/doc/numpy-1.17.0/numpy-ref-1.17.0.pdf\n",
    "# https://numpy.org/doc/stable/reference/\n",
    "# https://material-docente.gitbook.io/parte-practica-informatica-para-ingenieria/practica-6.-matrices.-conjuntos/matrices-suma-y-multiplicacion"
   ]
  },
  {
   "cell_type": "code",
   "execution_count": 7,
   "id": "0c9bcbb0-65cf-4903-b77d-6a22cf11ff50",
   "metadata": {},
   "outputs": [
    {
     "name": "stdout",
     "output_type": "stream",
     "text": [
      "[[  1  13  21  11 196  75   4   3  34   6   7   8   0   1   2   3   4   5]\n",
      " [  3  42  12  33 766  75   4  55   6   4   3   4   5   6   7   0  11  12]\n",
      " [  1  22  33  11 999  11   2   1  78   0   1   2   9   8   7   1  76  88]]\n"
     ]
    }
   ],
   "source": [
    "x=np.genfromtxt('data.txt',delimiter=',',dtype='int32')\n",
    "print(x)"
   ]
  },
  {
   "cell_type": "code",
   "execution_count": 14,
   "id": "9a8feab8-30c3-445d-9c4c-8cc39d569204",
   "metadata": {},
   "outputs": [
    {
     "name": "stdout",
     "output_type": "stream",
     "text": [
      "[[False False False False  True  True False False False False False False\n",
      "  False False False False False False]\n",
      " [False False False False  True  True False  True False False False False\n",
      "  False False False False False False]\n",
      " [False False False False  True False False False  True False False False\n",
      "  False False False False  True  True]]\n"
     ]
    }
   ],
   "source": [
    "print(x>50)"
   ]
  },
  {
   "cell_type": "code",
   "execution_count": 11,
   "id": "93f97fe0-320e-4ad6-9137-3928b43968d4",
   "metadata": {},
   "outputs": [
    {
     "name": "stdout",
     "output_type": "stream",
     "text": [
      "[196  75 766  75  55 999  78  76  88]\n"
     ]
    }
   ],
   "source": [
    "print(x[x>50])"
   ]
  },
  {
   "cell_type": "code",
   "execution_count": 16,
   "id": "a00b0afd-c64b-49b4-b7ee-79458233b415",
   "metadata": {},
   "outputs": [
    {
     "name": "stdout",
     "output_type": "stream",
     "text": [
      "[[  1  13  21  11 196  75   4   3  34   6   7   8   0   1   2   3   4   5]\n",
      " [  3  42  12  33 766  75   4  55   6   4   3   4   5   6   7   0  11  12]\n",
      " [  1  22  33  11 999  11   2   1  78   0   1   2   9   8   7   1  76  88]]\n"
     ]
    }
   ],
   "source": [
    "print(x)"
   ]
  },
  {
   "cell_type": "code",
   "execution_count": 17,
   "id": "e3e0b01f-4727-4cfd-a88a-0c3d8b5a5734",
   "metadata": {},
   "outputs": [
    {
     "name": "stdout",
     "output_type": "stream",
     "text": [
      "[False False False False  True  True False  True  True False False False\n",
      " False False False False  True  True]\n"
     ]
    }
   ],
   "source": [
    "a=np.any(x>50,axis=0)\n",
    "print(a)"
   ]
  },
  {
   "cell_type": "code",
   "execution_count": 18,
   "id": "c4c3f0c7-977d-44cf-a6e5-6601f58a4224",
   "metadata": {},
   "outputs": [
    {
     "name": "stdout",
     "output_type": "stream",
     "text": [
      "[False False False False  True False False False False False False False\n",
      " False False False False False False]\n"
     ]
    }
   ],
   "source": [
    "b=np.all(x>50,axis=0)\n",
    "print(b)"
   ]
  },
  {
   "cell_type": "code",
   "execution_count": 1,
   "id": "413ed718-2e0b-4468-9ff9-cf940955179a",
   "metadata": {},
   "outputs": [
    {
     "ename": "NameError",
     "evalue": "name 'x' is not defined",
     "output_type": "error",
     "traceback": [
      "\u001b[1;31m---------------------------------------------------------------------------\u001b[0m",
      "\u001b[1;31mNameError\u001b[0m                                 Traceback (most recent call last)",
      "\u001b[1;32m~\\AppData\\Local\\Temp/ipykernel_8128/1124339614.py\u001b[0m in \u001b[0;36m<module>\u001b[1;34m\u001b[0m\n\u001b[1;32m----> 1\u001b[1;33m \u001b[0mprint\u001b[0m\u001b[1;33m(\u001b[0m\u001b[0mx\u001b[0m\u001b[1;33m[\u001b[0m\u001b[1;33m~\u001b[0m\u001b[1;33m(\u001b[0m\u001b[1;33m(\u001b[0m\u001b[0mx\u001b[0m\u001b[1;33m>\u001b[0m\u001b[1;36m5\u001b[0m\u001b[1;33m)\u001b[0m \u001b[1;33m&\u001b[0m \u001b[1;33m(\u001b[0m\u001b[0mx\u001b[0m\u001b[1;33m<\u001b[0m\u001b[1;36m8\u001b[0m\u001b[1;33m)\u001b[0m\u001b[1;33m)\u001b[0m\u001b[1;33m]\u001b[0m\u001b[1;33m)\u001b[0m\u001b[1;33m\u001b[0m\u001b[1;33m\u001b[0m\u001b[0m\n\u001b[0m",
      "\u001b[1;31mNameError\u001b[0m: name 'x' is not defined"
     ]
    }
   ],
   "source": [
    "print(x[~((x>5) & (x<8))])"
   ]
  },
  {
   "cell_type": "code",
   "execution_count": 22,
   "id": "898ef220-9239-448d-a8a7-e8739eadbb71",
   "metadata": {},
   "outputs": [
    {
     "name": "stdout",
     "output_type": "stream",
     "text": [
      "['san_isidro' 'innova' 'pamer']\n"
     ]
    }
   ],
   "source": [
    "colegios=np.array(['san_gregorio','san_isidro','talent','innova','trilce','pamer'])\n",
    "departamento=np.array(['lima','cuzco','ucayali','lima','cuzco','puno'])\n",
    "mensualidad=np.array([320,480,280,500,409,720])\n",
    "precio_prom=np.mean(mensualidad)\n",
    "vbool=mensualidad>precio_prom\n",
    "print(colegios[vbool])"
   ]
  },
  {
   "cell_type": "code",
   "execution_count": 29,
   "id": "921e8007",
   "metadata": {},
   "outputs": [
    {
     "name": "stdout",
     "output_type": "stream",
     "text": [
      "san_gregorio\n",
      "san_isidro\n",
      "talent\n",
      "innova\n",
      "trilce\n",
      "pamer\n"
     ]
    }
   ],
   "source": [
    "for i in np.icolegios:\n",
    "    print(i)"
   ]
  },
  {
   "cell_type": "code",
   "execution_count": 28,
   "id": "1d21df06",
   "metadata": {},
   "outputs": [
    {
     "name": "stdout",
     "output_type": "stream",
     "text": [
      "infrese el departamento:puno\n",
      "['pamer']\n",
      "1\n"
     ]
    }
   ],
   "source": [
    "cole=input('infrese el departamento:')\n",
    "x=departamento==cole\n",
    "print(colegios[x])\n",
    "print(np.sum(x))"
   ]
  },
  {
   "cell_type": "code",
   "execution_count": 23,
   "id": "dcfef18f",
   "metadata": {},
   "outputs": [
    {
     "name": "stdout",
     "output_type": "stream",
     "text": [
      "[ True False]\n"
     ]
    }
   ],
   "source": [
    "men_cuzco=(mensualidad[departamento=='cuzco'])>=precios_lima_prom\n",
    "print(men_cuzco)"
   ]
  },
  {
   "cell_type": "code",
   "execution_count": 24,
   "id": "79ce1f50",
   "metadata": {},
   "outputs": [
    {
     "name": "stdout",
     "output_type": "stream",
     "text": [
      "[480 409]\n",
      "['san_isidro' 'trilce']\n",
      "['san_isidro']\n"
     ]
    }
   ],
   "source": [
    "print(mensualidad[departamento=='cuzco'])\n",
    "print(colegios[departamento=='cuzco'])\n",
    "print(colegios[departamento=='cuzco'][men_cuzco])"
   ]
  },
  {
   "cell_type": "code",
   "execution_count": null,
   "id": "4d237c14",
   "metadata": {},
   "outputs": [],
   "source": []
  }
 ],
 "metadata": {
  "kernelspec": {
   "display_name": "Python 3 (ipykernel)",
   "language": "python",
   "name": "python3"
  },
  "language_info": {
   "codemirror_mode": {
    "name": "ipython",
    "version": 3
   },
   "file_extension": ".py",
   "mimetype": "text/x-python",
   "name": "python",
   "nbconvert_exporter": "python",
   "pygments_lexer": "ipython3",
   "version": "3.9.7"
  }
 },
 "nbformat": 4,
 "nbformat_minor": 5
}
